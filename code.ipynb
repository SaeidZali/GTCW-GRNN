{
 "cells": [
  {
   "cell_type": "markdown",
   "metadata": {},
   "source": [
    "The relationship of multiple linear regression is defined as follows(relationship 1)."
   ]
  },
  {
   "cell_type": "markdown",
   "metadata": {},
   "source": [
    "<img src='data:image/png;base64,iVBORw0KGgoAAAANSUhEUgAAAKQAAAAzCAIAAACWtDTtAAAEiklEQVR42uxcvU7zShCdXN0XcOgoWVqEhDYdNc4DICVIFBRIED8AQkbUyJFowSBR2y/gCCqK0PBTmAKJZtPQGlHwALkSq7sabWzHdhxsYE7lz3949+zMnDkbff+Ox2Mg/A38Q1NAZBOIbAKRTSCyCUQ2gcgmENkEIptAZBP+Itnv7+++77fb7Waz2fhCs9nsdruDweDvsj3+jQjDkDEGAIZhDIfD8Xg8HA7VkHu93uT9KZMjhNDOm6b5E6cFfiXThmFIVsIwVOdN01Rs4fMSrutiOhljQgh1NQgCvFaiKCKyq0cURYppLYIx2TLcNeAbtNj1PC8pK2SE4zgA4DhOhZPz22r21dXVx8eHPN7b29OqePqzOzs76vjm5kbdPxqNLMuSTJ+dnVHNrgtUWDPG8Hlcdw3DSMrDstJLeJ4nUwXnHAA457Nk758R2YPBoNVqSTVrWRaOj4uLi8b/WF5enho684bv+yqsO50OvmTbtjo+OTlZWFiIfQN+6vT0FACOj4+fnp4459fX10lPfTNGo9HR0VG73VaT32q1+v3+9PlPXwuqVuHpwDf0ej0VLpWHtfoYAAiCIPa8bdspb9CEt1wihmFgsVZtZONVq2HqR0L6yA3DcF0X9y3aS+UYMiqXAqs41+zgJCy+YNu2OmmaZqwuS5FpkulJ6V4V2bKgSHDOgyDIVVnSyA6CQIlS/Gdw0Ciys6z9uZKtVWWtm5IFOAu0ZIYHWy3ZOKaLNQVQ4C/hL5ZFrg4mA26FZa0RQjiOoyRbp9PJEgdRFNWQbJxcGWPFpCIUnko8L1nS47yRtBzxNGmCY2rhz/hIEivZMXUC8Vdlz1IFycZJknOOM15hn6FcpHgmKrinlhs5Inx/xgo1b7K1TypW7KBAC6s0PGOsFKVajheY3GJM9c60ah2GIdYopTTHs6TxJOs++1rJ7aBtbGzgVs/3fSHE4eHh0tJSxjc08qPf72d5893dHU482tWHh4csdsLW1pZMkqurq7u7u+rS5eVltY315+dnellZX18veYtzbW1NHb++vlqWxTk/ODiog8/w8vKijlutluaSKqcFABYXFycff35+3t7eBgDXdbvdLgBsbm7iNF6fjVHMwhztUqzRZPNaSgNaCrDz5bpuUisV2zWoXTJNfGBNlFemlZvGcYMwS+OTg2zNXarW5p3qaatpUpdi7RFpHMX2M9qm54zSZMbWC8sOtZrDMHS+MJctzklBXgdoq5AxJgWLEELVb8bYJNPqNw6xI1J+kbqhwo0QvEmvDTZ7foUC66ssB3EedorxBfxP0zQ9z5vkaVLi4gwZa0HP0mTO7qAJIXq9Hl6druuWZpcmkV24qf9mO6VWqMMWZw6yZQ2riYVSoI0mQK7tgVqV6lg75Yf+OqxisqXcl3EsY3pGhTInYHuynmuxPkg0Ve7v7wHg/Py80Wjs7+/X6qcaSXYK9vgIORy0t7c3Je4dx3l8fKwh0wBwe3urjldWVojRNLua/gMdimwCkU0gsglENoHIJhDZBCKbQGQTiGwCkU0gsolsApFN+PH4LwAA//82YVeb0La9UgAAAABJRU5ErkJggg==\n",
    "'>"
   ]
  },
  {
   "cell_type": "markdown",
   "metadata": {},
   "source": [
    "The following relationship is used to find the parameters(relationship 2)."
   ]
  },
  {
   "cell_type": "markdown",
   "metadata": {},
   "source": [
    "<img src='data:image/png;base64,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'>"
   ]
  },
  {
   "cell_type": "markdown",
   "metadata": {},
   "source": [
    "First, we load the sample dataset using Pandas."
   ]
  },
  {
   "cell_type": "code",
   "execution_count": 11,
   "metadata": {},
   "outputs": [
    {
     "data": {
      "text/html": [
       "<div>\n",
       "<style scoped>\n",
       "    .dataframe tbody tr th:only-of-type {\n",
       "        vertical-align: middle;\n",
       "    }\n",
       "\n",
       "    .dataframe tbody tr th {\n",
       "        vertical-align: top;\n",
       "    }\n",
       "\n",
       "    .dataframe thead th {\n",
       "        text-align: right;\n",
       "    }\n",
       "</style>\n",
       "<table border=\"1\" class=\"dataframe\">\n",
       "  <thead>\n",
       "    <tr style=\"text-align: right;\">\n",
       "      <th></th>\n",
       "      <th>Price</th>\n",
       "      <th>Living</th>\n",
       "      <th>quality</th>\n",
       "      <th>structure</th>\n",
       "      <th>renovation</th>\n",
       "      <th>condiction</th>\n",
       "      <th>greenspace</th>\n",
       "      <th>Traffic</th>\n",
       "      <th>VIEW</th>\n",
       "      <th>Time</th>\n",
       "      <th>X</th>\n",
       "      <th>Y</th>\n",
       "    </tr>\n",
       "  </thead>\n",
       "  <tbody>\n",
       "    <tr>\n",
       "      <th>0</th>\n",
       "      <td>12.328290</td>\n",
       "      <td>0.148714</td>\n",
       "      <td>0.209074</td>\n",
       "      <td>0.25</td>\n",
       "      <td>0.5</td>\n",
       "      <td>0.333333</td>\n",
       "      <td>0.0</td>\n",
       "      <td>0.333333</td>\n",
       "      <td>0.336538</td>\n",
       "      <td>37951</td>\n",
       "      <td>439542.8867</td>\n",
       "      <td>5598242.529</td>\n",
       "    </tr>\n",
       "    <tr>\n",
       "      <th>1</th>\n",
       "      <td>12.534059</td>\n",
       "      <td>0.368753</td>\n",
       "      <td>0.164102</td>\n",
       "      <td>0.50</td>\n",
       "      <td>1.0</td>\n",
       "      <td>1.000000</td>\n",
       "      <td>0.0</td>\n",
       "      <td>0.666667</td>\n",
       "      <td>0.019231</td>\n",
       "      <td>37600</td>\n",
       "      <td>435349.9195</td>\n",
       "      <td>5609801.479</td>\n",
       "    </tr>\n",
       "    <tr>\n",
       "      <th>2</th>\n",
       "      <td>12.921470</td>\n",
       "      <td>0.314410</td>\n",
       "      <td>0.090522</td>\n",
       "      <td>0.75</td>\n",
       "      <td>1.0</td>\n",
       "      <td>0.333333</td>\n",
       "      <td>0.0</td>\n",
       "      <td>0.000000</td>\n",
       "      <td>0.028846</td>\n",
       "      <td>38135</td>\n",
       "      <td>436882.1112</td>\n",
       "      <td>5605366.512</td>\n",
       "    </tr>\n",
       "    <tr>\n",
       "      <th>3</th>\n",
       "      <td>12.089539</td>\n",
       "      <td>0.102426</td>\n",
       "      <td>0.119324</td>\n",
       "      <td>0.25</td>\n",
       "      <td>0.0</td>\n",
       "      <td>0.333333</td>\n",
       "      <td>0.0</td>\n",
       "      <td>0.000000</td>\n",
       "      <td>0.211538</td>\n",
       "      <td>37991</td>\n",
       "      <td>441028.8602</td>\n",
       "      <td>5598450.498</td>\n",
       "    </tr>\n",
       "    <tr>\n",
       "      <th>4</th>\n",
       "      <td>12.314927</td>\n",
       "      <td>0.238476</td>\n",
       "      <td>0.216503</td>\n",
       "      <td>0.25</td>\n",
       "      <td>0.0</td>\n",
       "      <td>1.000000</td>\n",
       "      <td>0.0</td>\n",
       "      <td>0.666667</td>\n",
       "      <td>0.096154</td>\n",
       "      <td>37854</td>\n",
       "      <td>434090.7299</td>\n",
       "      <td>5609800.138</td>\n",
       "    </tr>\n",
       "  </tbody>\n",
       "</table>\n",
       "</div>"
      ],
      "text/plain": [
       "       Price    Living   quality  structure  renovation  condiction  \\\n",
       "0  12.328290  0.148714  0.209074       0.25         0.5    0.333333   \n",
       "1  12.534059  0.368753  0.164102       0.50         1.0    1.000000   \n",
       "2  12.921470  0.314410  0.090522       0.75         1.0    0.333333   \n",
       "3  12.089539  0.102426  0.119324       0.25         0.0    0.333333   \n",
       "4  12.314927  0.238476  0.216503       0.25         0.0    1.000000   \n",
       "\n",
       "   greenspace   Traffic      VIEW   Time            X            Y  \n",
       "0         0.0  0.333333  0.336538  37951  439542.8867  5598242.529  \n",
       "1         0.0  0.666667  0.019231  37600  435349.9195  5609801.479  \n",
       "2         0.0  0.000000  0.028846  38135  436882.1112  5605366.512  \n",
       "3         0.0  0.000000  0.211538  37991  441028.8602  5598450.498  \n",
       "4         0.0  0.666667  0.096154  37854  434090.7299  5609800.138  "
      ]
     },
     "execution_count": 11,
     "metadata": {},
     "output_type": "execute_result"
    }
   ],
   "source": [
    "import pandas as pd\n",
    "brooks=pd.read_csv('BrooksData/brooks.csv')\n",
    "brooks.head()"
   ]
  },
  {
   "cell_type": "markdown",
   "metadata": {},
   "source": [
    "We need to convert the x and y coordinates to longitude and latitude. Later, these coordinates are used to find the travel distance between the points of housing price data."
   ]
  },
  {
   "cell_type": "code",
   "execution_count": 12,
   "metadata": {},
   "outputs": [
    {
     "name": "stdout",
     "output_type": "stream",
     "text": [
      "Defaulting to user installation because normal site-packages is not writeable\n",
      "Requirement already satisfied: pyproj in c:\\users\\saeedzali\\appdata\\roaming\\python\\python312\\site-packages (3.7.1)\n",
      "Requirement already satisfied: certifi in c:\\programdata\\anaconda3\\lib\\site-packages (from pyproj) (2024.8.30)\n"
     ]
    }
   ],
   "source": [
    "!pip install pyproj\n",
    "from pyproj import CRS\n",
    "crs_32612 = CRS(\"EPSG:32612\")\n",
    "from pyproj import Transformer\n",
    "crs_4326 = CRS(\"WGS84\")\n",
    "transformer = Transformer.from_crs(crs_32612, crs_4326)\n",
    "brooks['lat'],brooks['lon']=transformer.transform(brooks['X'],brooks['Y'])"
   ]
  },
  {
   "cell_type": "markdown",
   "metadata": {},
   "source": [
    "We need to apply to the site and obtain the travel distance between the points of housing price data. The most distance matrix that this site can calculate is 50 by 50 matrix. Using these matrices, we can obtain the distance matrix of housing price data, which is the matrix of 999 by 999."
   ]
  },
  {
   "cell_type": "code",
   "execution_count": 13,
   "metadata": {},
   "outputs": [],
   "source": [
    "numbers=list(range(0, 999, 49))\n",
    "numbers.append(999)\n",
    "a=[]\n",
    "for i in range(0,len(numbers)-1):\n",
    "    url1='https://router.project-osrm.org/table/v1/driving/'\n",
    "    cols=list(range(numbers[i],numbers[i+1]))\n",
    "    for g in range(cols[0],cols[-1]):\n",
    "        url1+=str(g)+','+str(g)+';'\n",
    "    url1+=str(cols[-1])+','+str(cols[-1])+';'\n",
    "    for j in range(0,len(numbers)-1):\n",
    "        url2=url1\n",
    "        rows=list(range(numbers[j],numbers[j+1]))\n",
    "        for h in range(rows[0],rows[-1]):\n",
    "            url2+=str(h)+','+str(h)+';'\n",
    "        url2+=str(rows[-1])+','+str(rows[-1])\n",
    "        url2+='?annotations=distance'\n",
    "        a.append(url2)\n",
    "        \n",
    "b=[]\n",
    "for i in range(0,len(numbers)-1):\n",
    "    url1='https://router.project-osrm.org/table/v1/driving/'\n",
    "    cols=list(range(numbers[i],numbers[i+1]))\n",
    "    for g in range(cols[0],cols[-1]):\n",
    "        url1+=str(brooks['lon'][g])+','+str(brooks['lat'][g])+';'\n",
    "    url1+=str(brooks['lon'][cols[-1]])+','+str(brooks['lat'][cols[-1]])+';'\n",
    "    for j in range(0,len(numbers)-1):\n",
    "        url2=url1\n",
    "        rows=list(range(numbers[j],numbers[j+1]))\n",
    "        for h in range(rows[0],rows[-1]):\n",
    "            url2+=str(brooks['lon'][h])+','+str(brooks['lat'][h])+';'\n",
    "        url2+=str(brooks['lon'][rows[-1]])+','+str(brooks['lat'][rows[-1]])\n",
    "        url2+='?annotations=distance'\n",
    "        b.append(url2)"
   ]
  },
  {
   "cell_type": "markdown",
   "metadata": {},
   "source": [
    "Now, we need to obtain the 50 by 50 interval matrices."
   ]
  },
  {
   "cell_type": "code",
   "execution_count": null,
   "metadata": {},
   "outputs": [],
   "source": [
    "import warnings\n",
    "import requests\n",
    "warnings.filterwarnings(\"ignore\")\n",
    "jsons=[]\n",
    "missed_requests=[]\n",
    "missed_indexes=[]\n",
    "for k in range(0,len(b)):\n",
    "    our_request=requests.get(b[k], verify = False)\n",
    "    try:\n",
    "        our_json=our_request.json()\n",
    "        start='https://router.project-osrm.org/table/v1/driving/'\n",
    "        end='?annotations=distance'\n",
    "        index_of_locations=(a[k].split(start))[1].split(end)[0].split(';')\n",
    "        indexes=[]\n",
    "        for f in range(0,len(index_of_locations)):\n",
    "            indexes.append(index_of_locations[f].split(','))\n",
    "        int_indexes=[]\n",
    "        for e in range(0,len(indexes)):\n",
    "            int_indexes.append(int(indexes[e][0]))\n",
    "        for d in range(0,len(int_indexes)):\n",
    "            our_json['sources'][d]['location']=[brooks['lon'][int_indexes[d]],\\\n",
    "                                                brooks['lat'][int_indexes[d]]]\n",
    "        jsons.append(our_json)\n",
    "    except:\n",
    "        missed_requests.append(b[k])\n",
    "        missed_indexes.append(k)"
   ]
  },
  {
   "cell_type": "markdown",
   "metadata": {},
   "source": [
    "We check whether the number of\n",
    "missed_requests\n",
    "is it equal to zero or not?"
   ]
  },
  {
   "cell_type": "code",
   "execution_count": 7,
   "metadata": {},
   "outputs": [
    {
     "data": {
      "text/plain": [
       "0"
      ]
     },
     "execution_count": 7,
     "metadata": {},
     "output_type": "execute_result"
    }
   ],
   "source": [
    "len(missed_requests)"
   ]
  },
  {
   "cell_type": "markdown",
   "metadata": {},
   "source": [
    "If it's not equal to zero, the following code should also be run to make sure you've received all the requests. This will continue until there are no distances left. Previously, these requests were introduced as missed_requests and here they are introduced as j_requests."
   ]
  },
  {
   "cell_type": "code",
   "execution_count": 8,
   "metadata": {},
   "outputs": [],
   "source": [
    "j_requests=[]\n",
    "j_indexes=[]\n",
    "for k in range(0,len(missed_indexes)):\n",
    "    try:\n",
    "        our_request=requests.get(b[missed_indexes[k]], verify = False)\n",
    "        our_json=our_request.json()\n",
    "        start='https://router.project-osrm.org/table/v1/driving/'\n",
    "        end='?annotations=distance'\n",
    "        index_of_locations=(a[missed_indexes[k]].split(start))[1].split(end)[0].split(';')\n",
    "        indexes=[]\n",
    "        for f in range(0,len(index_of_locations)):\n",
    "            indexes.append(index_of_locations[f].split(','))\n",
    "        int_indexes=[]\n",
    "        for e in range(0,len(indexes)):\n",
    "            int_indexes.append(int(indexes[e][0]))\n",
    "        for d in range(0,len(int_indexes)):\n",
    "            our_json['sources'][d]['location']=[brooks['lon'][int_indexes[d]],\\\n",
    "                                                brooks['lat'][int_indexes[d]]]\n",
    "        jsons_1.append(our_json)\n",
    "    except:\n",
    "        j_requests.append(b[missed_indexes[k]])\n",
    "        j_indexes.append(missed_indexes[k])"
   ]
  },
  {
   "cell_type": "markdown",
   "metadata": {},
   "source": [
    "So that we don't have to reapply the code next time, we put JSONS in a file with a dill extension and store it physically on our computer's hard drive."
   ]
  },
  {
   "cell_type": "code",
   "execution_count": 14,
   "metadata": {},
   "outputs": [],
   "source": [
    "import pickle\n",
    "with open('jsons.pkl', 'wb') as file:\n",
    "    pickle.dump(jsons, file)"
   ]
  },
  {
   "cell_type": "markdown",
   "metadata": {},
   "source": [
    "The next time to run the codes; first we load pkl and and there is no need to re-get the requests."
   ]
  },
  {
   "cell_type": "code",
   "execution_count": 15,
   "metadata": {},
   "outputs": [],
   "source": [
    "import pickle\n",
    "with open('jsons.pkl', 'rb') as file:\n",
    "    jsons = pickle.load(file)"
   ]
  },
  {
   "cell_type": "markdown",
   "metadata": {},
   "source": [
    "Now we extract the value of the travel distance between points in each of the 50 by 50 distance matrices and store them in a list."
   ]
  },
  {
   "cell_type": "code",
   "execution_count": 16,
   "metadata": {},
   "outputs": [],
   "source": [
    "dises=[]\n",
    "for h in range(0,len(jsons)):\n",
    "    a1=jsons[h]\n",
    "    for i in range(0,len(a1['distances'])):\n",
    "        for j in range(0,len(a1['distances'][i])):\n",
    "            dises.append([a1['sources'][i]['location'][0],\n",
    " a1['sources'][i]['location'][1],\n",
    " a1['sources'][j]['location'][0],\n",
    " a1['sources'][j]['location'][1],\n",
    " a1['distances'][i][j]])"
   ]
  },
  {
   "cell_type": "markdown",
   "metadata": {},
   "source": [
    "Now, using the code below, we will remove the duplicate values. In fact, the values in which both the beginning and the end of the journey and the distance of the journey are the same are eliminated."
   ]
  },
  {
   "cell_type": "code",
   "execution_count": 17,
   "metadata": {},
   "outputs": [],
   "source": [
    "import itertools\n",
    "dises.sort()\n",
    "dises=list(dises for dises,_ in itertools.groupby(dises))"
   ]
  },
  {
   "cell_type": "markdown",
   "metadata": {},
   "source": [
    "Now the intervals in dises is in the form of a list of lists, in each list there are the starting and ending points and the travel distance related to the two points. Now we want to have a list of lists, each list is a list of lists in which the distance of travel between one point and the rest of the points has been calculated."
   ]
  },
  {
   "cell_type": "code",
   "execution_count": null,
   "metadata": {},
   "outputs": [],
   "source": [
    "values =set(map(lambda x:(x[0],x[1]), dises))\n",
    "list_dises = [[y for y in dises if (y[0],y[1])==x] for x in values]"
   ]
  },
  {
   "cell_type": "markdown",
   "metadata": {},
   "source": [
    "According to the code below, we have 995 distinct points."
   ]
  },
  {
   "cell_type": "code",
   "execution_count": null,
   "metadata": {},
   "outputs": [],
   "source": [
    "len(set(tuple(row) for row in [(j, k) for j,k in zip(brooks['lon'],brooks['lat'])]))"
   ]
  },
  {
   "cell_type": "markdown",
   "metadata": {},
   "source": [
    "So in\n",
    "list_dises\n",
    "each list should contain 995 lists. Because in each list, the distance between each point and the rest of the points and itself has been calculated. If we had a list that had more than 995 lists, we should find the duplicate point and delete it. In these cases, only the endpoint is duplicate and the travel distance is different, otherwise it would have been eliminated in the previous stages. The distance is different because the distance between two points may be obtained at different times of the day and night according to the volume of traffic."
   ]
  },
  {
   "cell_type": "code",
   "execution_count": 14,
   "metadata": {},
   "outputs": [],
   "source": [
    "revision_list_dises=[]   \n",
    "for i in range(0,len(list_dises)):\n",
    "    tmp_revision=[]\n",
    "    current_revision=list_dises[i]\n",
    "    current_list_dises=[]\n",
    "    for j in range(0,len(current_revision)):\n",
    "        if [current_revision[j][2],current_revision[j][3]] not in tmp_revision:\n",
    "            current_list_dises.append(current_revision[j])\n",
    "            tmp_revision.append([current_revision[j][2],current_revision[j][3]])\n",
    "    revision_list_dises.append(current_list_dises)"
   ]
  },
  {
   "cell_type": "markdown",
   "metadata": {},
   "source": [
    "Now, we will make the distance between each point and the rest of the points and itself, which was saved in a list of lists in the previous step, into a dictionary of dictionaries. By doing this, each dictionary is assigned to a point in which there is another dictionary in which the distance between that point and the rest of the points and itself has been calculated. The purpose of this is to create a dataframe using a dictionary of dictionaries."
   ]
  },
  {
   "cell_type": "code",
   "execution_count": 16,
   "metadata": {},
   "outputs": [],
   "source": [
    "dictionary_of_distances={}\n",
    "for i in range(0,len(revision_list_dises)):\n",
    "    tmp_revision_list_dis=revision_list_dises[i]\n",
    "    dictionary_of_distances[str(tmp_revision_list_dis[0][0])+','+str(tmp_revision_list_dis[0][1])]={}\n",
    "    for j in range(0,len(tmp_revision_list_dis)):\n",
    "        if tmp_revision_list_dis[j][4]==0:\n",
    "            if [tmp_revision_list_dis[j][0],tmp_revision_list_dis[j][1]]!=[tmp_revision_list_dis[j][2],\\\n",
    "                                                                           tmp_revision_list_dis[j][3]]:\n",
    "                dictionary_of_distances[str(tmp_revision_list_dis[j][0])+','+str(tmp_revision_list_dis[j][1])]\\\n",
    "                [str(tmp_revision_list_dis[j][2])+','+str(tmp_revision_list_dis[j][3])]=abs(tmp_revision_list_dis[j][4])+0.1\n",
    "            else:\n",
    "                dictionary_of_distances[str(tmp_revision_list_dis[j][0])+','+str(tmp_revision_list_dis[j][1])]\\\n",
    "                [str(tmp_revision_list_dis[j][2])+','+str(tmp_revision_list_dis[j][3])]=abs(tmp_revision_list_dis[j][4])\n",
    "        else:\n",
    "            dictionary_of_distances[str(tmp_revision_list_dis[j][0])+','+str(tmp_revision_list_dis[j][1])]\\\n",
    "            [str(tmp_revision_list_dis[j][2])+','+str(tmp_revision_list_dis[j][3])]=abs(tmp_revision_list_dis[j][4])"
   ]
  },
  {
   "cell_type": "markdown",
   "metadata": {},
   "source": [
    "Since the distance between point 1 and 2 is different from the distance between point 2 and 1, because different routes are used in the transportation network to travel from each of these points to another point. Therefore, in order to use a single distance between two points, we calculate the average distances between each pair of points and form the dataframe corresponding to the distance matrix."
   ]
  },
  {
   "cell_type": "code",
   "execution_count": 20,
   "metadata": {},
   "outputs": [],
   "source": [
    "keys=list(dictionary_of_distances.keys())\n",
    "for i in range(0,len(keys)):\n",
    "    for j in range(0,len(keys)):\n",
    "        first=dictionary_of_distances[keys[i]][keys[j]]\n",
    "        second=dictionary_of_distances[keys[j]][keys[i]]\n",
    "        result=(first+second)/2\n",
    "        dictionary_of_distances[keys[i]][keys[j]]=result\n",
    "        dictionary_of_distances[keys[j]][keys[i]]=result\n",
    "dataframe_of_distances = pd.DataFrame.from_dict(dictionary_of_distances)"
   ]
  },
  {
   "cell_type": "markdown",
   "metadata": {},
   "source": [
    "Finally, we store the obtained distance matrix physically on our computer's hard drive."
   ]
  },
  {
   "cell_type": "code",
   "execution_count": 41,
   "metadata": {},
   "outputs": [],
   "source": [
    "import pickle\n",
    "with open('dataframe_of_distances.pkl', 'wb') as file:\n",
    "    pickle.dump(dataframe_of_distances, file)"
   ]
  },
  {
   "cell_type": "markdown",
   "metadata": {},
   "source": [
    "You can see the resulting distance matrix."
   ]
  },
  {
   "cell_type": "code",
   "execution_count": 33,
   "metadata": {},
   "outputs": [
    {
     "data": {
      "text/html": [
       "<div>\n",
       "<style scoped>\n",
       "    .dataframe tbody tr th:only-of-type {\n",
       "        vertical-align: middle;\n",
       "    }\n",
       "\n",
       "    .dataframe tbody tr th {\n",
       "        vertical-align: top;\n",
       "    }\n",
       "\n",
       "    .dataframe thead th {\n",
       "        text-align: right;\n",
       "    }\n",
       "</style>\n",
       "<table border=\"1\" class=\"dataframe\">\n",
       "  <thead>\n",
       "    <tr style=\"text-align: right;\">\n",
       "      <th></th>\n",
       "      <th>-111.9800193902779,50.641824764437544</th>\n",
       "      <th>-111.80455741352041,50.49342070510727</th>\n",
       "      <th>-111.85589484778207,50.60748757938547</th>\n",
       "      <th>-111.97626593276009,50.62555851190002</th>\n",
       "      <th>-111.92886050672124,50.64076793417325</th>\n",
       "      <th>-111.92866550850727,50.629581307371346</th>\n",
       "      <th>-111.8916298561183,50.606747082933246</th>\n",
       "      <th>-111.81077980051134,50.48547035359942</th>\n",
       "      <th>-111.7987633419414,50.492400477339416</th>\n",
       "      <th>-111.93712352470823,50.5864586424768</th>\n",
       "      <th>...</th>\n",
       "      <th>-111.95035522358194,50.6255379093181</th>\n",
       "      <th>-111.94706632897206,50.62098964280719</th>\n",
       "      <th>-111.9469131670666,50.63831916692557</th>\n",
       "      <th>-111.91843505379539,50.610466639766074</th>\n",
       "      <th>-111.88513671708418,50.58524808557249</th>\n",
       "      <th>-111.8585189791055,50.62848935301355</th>\n",
       "      <th>-111.9706254566445,50.61858160891099</th>\n",
       "      <th>-111.93448454418602,50.58619201152526</th>\n",
       "      <th>-111.88129569127145,50.628919484529895</th>\n",
       "      <th>-111.81166230542398,50.47805574752547</th>\n",
       "    </tr>\n",
       "  </thead>\n",
       "  <tbody>\n",
       "    <tr>\n",
       "      <td>-111.98997352370635,50.6074778278768</td>\n",
       "      <td>5684.2</td>\n",
       "      <td>32832.55</td>\n",
       "      <td>21422.9</td>\n",
       "      <td>6703.1</td>\n",
       "      <td>11036.55</td>\n",
       "      <td>9641.45</td>\n",
       "      <td>15392.90</td>\n",
       "      <td>33273.85</td>\n",
       "      <td>32421.15</td>\n",
       "      <td>4931.2</td>\n",
       "      <td>...</td>\n",
       "      <td>10660.95</td>\n",
       "      <td>10154.85</td>\n",
       "      <td>9473.55</td>\n",
       "      <td>10945.25</td>\n",
       "      <td>16814.80</td>\n",
       "      <td>20771.75</td>\n",
       "      <td>9257.4</td>\n",
       "      <td>4961.2</td>\n",
       "      <td>19647.15</td>\n",
       "      <td>33336.05</td>\n",
       "    </tr>\n",
       "    <tr>\n",
       "      <td>-111.98986337203984,50.60567539541235</td>\n",
       "      <td>5692.5</td>\n",
       "      <td>32840.80</td>\n",
       "      <td>21431.2</td>\n",
       "      <td>6711.4</td>\n",
       "      <td>11044.85</td>\n",
       "      <td>9649.75</td>\n",
       "      <td>15401.15</td>\n",
       "      <td>33282.15</td>\n",
       "      <td>32429.45</td>\n",
       "      <td>4922.9</td>\n",
       "      <td>...</td>\n",
       "      <td>10669.25</td>\n",
       "      <td>10163.10</td>\n",
       "      <td>9481.85</td>\n",
       "      <td>10953.50</td>\n",
       "      <td>16823.05</td>\n",
       "      <td>20780.05</td>\n",
       "      <td>9265.7</td>\n",
       "      <td>4952.9</td>\n",
       "      <td>19655.45</td>\n",
       "      <td>33344.35</td>\n",
       "    </tr>\n",
       "    <tr>\n",
       "      <td>-111.98985755118872,50.60627471812511</td>\n",
       "      <td>5692.7</td>\n",
       "      <td>32841.05</td>\n",
       "      <td>21431.4</td>\n",
       "      <td>6711.6</td>\n",
       "      <td>11045.05</td>\n",
       "      <td>9649.95</td>\n",
       "      <td>15401.40</td>\n",
       "      <td>33282.35</td>\n",
       "      <td>32429.65</td>\n",
       "      <td>4922.7</td>\n",
       "      <td>...</td>\n",
       "      <td>10669.45</td>\n",
       "      <td>10163.30</td>\n",
       "      <td>9482.05</td>\n",
       "      <td>10953.75</td>\n",
       "      <td>16823.25</td>\n",
       "      <td>20780.25</td>\n",
       "      <td>9265.9</td>\n",
       "      <td>4952.7</td>\n",
       "      <td>19655.65</td>\n",
       "      <td>33344.55</td>\n",
       "    </tr>\n",
       "    <tr>\n",
       "      <td>-111.98980116467344,50.60545672854696</td>\n",
       "      <td>5696.9</td>\n",
       "      <td>32845.20</td>\n",
       "      <td>21435.6</td>\n",
       "      <td>6715.8</td>\n",
       "      <td>11049.25</td>\n",
       "      <td>9654.15</td>\n",
       "      <td>15405.55</td>\n",
       "      <td>33286.55</td>\n",
       "      <td>32433.80</td>\n",
       "      <td>4918.5</td>\n",
       "      <td>...</td>\n",
       "      <td>10673.65</td>\n",
       "      <td>10167.50</td>\n",
       "      <td>9486.25</td>\n",
       "      <td>10957.90</td>\n",
       "      <td>16827.40</td>\n",
       "      <td>20784.45</td>\n",
       "      <td>9270.1</td>\n",
       "      <td>4948.5</td>\n",
       "      <td>19659.85</td>\n",
       "      <td>33348.75</td>\n",
       "    </tr>\n",
       "    <tr>\n",
       "      <td>-111.98972121316767,50.60543898042324</td>\n",
       "      <td>5702.6</td>\n",
       "      <td>32850.85</td>\n",
       "      <td>21441.2</td>\n",
       "      <td>6721.4</td>\n",
       "      <td>11054.95</td>\n",
       "      <td>9659.75</td>\n",
       "      <td>15411.25</td>\n",
       "      <td>33292.20</td>\n",
       "      <td>32439.45</td>\n",
       "      <td>4912.8</td>\n",
       "      <td>...</td>\n",
       "      <td>10679.30</td>\n",
       "      <td>10173.15</td>\n",
       "      <td>9491.85</td>\n",
       "      <td>10963.55</td>\n",
       "      <td>16833.10</td>\n",
       "      <td>20790.05</td>\n",
       "      <td>9275.7</td>\n",
       "      <td>4942.9</td>\n",
       "      <td>19665.45</td>\n",
       "      <td>33354.35</td>\n",
       "    </tr>\n",
       "  </tbody>\n",
       "</table>\n",
       "<p>5 rows × 995 columns</p>\n",
       "</div>"
      ],
      "text/plain": [
       "                                       -111.9800193902779,50.641824764437544  \\\n",
       "-111.98997352370635,50.6074778278768                                  5684.2   \n",
       "-111.98986337203984,50.60567539541235                                 5692.5   \n",
       "-111.98985755118872,50.60627471812511                                 5692.7   \n",
       "-111.98980116467344,50.60545672854696                                 5696.9   \n",
       "-111.98972121316767,50.60543898042324                                 5702.6   \n",
       "\n",
       "                                       -111.80455741352041,50.49342070510727  \\\n",
       "-111.98997352370635,50.6074778278768                                32832.55   \n",
       "-111.98986337203984,50.60567539541235                               32840.80   \n",
       "-111.98985755118872,50.60627471812511                               32841.05   \n",
       "-111.98980116467344,50.60545672854696                               32845.20   \n",
       "-111.98972121316767,50.60543898042324                               32850.85   \n",
       "\n",
       "                                       -111.85589484778207,50.60748757938547  \\\n",
       "-111.98997352370635,50.6074778278768                                 21422.9   \n",
       "-111.98986337203984,50.60567539541235                                21431.2   \n",
       "-111.98985755118872,50.60627471812511                                21431.4   \n",
       "-111.98980116467344,50.60545672854696                                21435.6   \n",
       "-111.98972121316767,50.60543898042324                                21441.2   \n",
       "\n",
       "                                       -111.97626593276009,50.62555851190002  \\\n",
       "-111.98997352370635,50.6074778278768                                  6703.1   \n",
       "-111.98986337203984,50.60567539541235                                 6711.4   \n",
       "-111.98985755118872,50.60627471812511                                 6711.6   \n",
       "-111.98980116467344,50.60545672854696                                 6715.8   \n",
       "-111.98972121316767,50.60543898042324                                 6721.4   \n",
       "\n",
       "                                       -111.92886050672124,50.64076793417325  \\\n",
       "-111.98997352370635,50.6074778278768                                11036.55   \n",
       "-111.98986337203984,50.60567539541235                               11044.85   \n",
       "-111.98985755118872,50.60627471812511                               11045.05   \n",
       "-111.98980116467344,50.60545672854696                               11049.25   \n",
       "-111.98972121316767,50.60543898042324                               11054.95   \n",
       "\n",
       "                                       -111.92866550850727,50.629581307371346  \\\n",
       "-111.98997352370635,50.6074778278768                                  9641.45   \n",
       "-111.98986337203984,50.60567539541235                                 9649.75   \n",
       "-111.98985755118872,50.60627471812511                                 9649.95   \n",
       "-111.98980116467344,50.60545672854696                                 9654.15   \n",
       "-111.98972121316767,50.60543898042324                                 9659.75   \n",
       "\n",
       "                                       -111.8916298561183,50.606747082933246  \\\n",
       "-111.98997352370635,50.6074778278768                                15392.90   \n",
       "-111.98986337203984,50.60567539541235                               15401.15   \n",
       "-111.98985755118872,50.60627471812511                               15401.40   \n",
       "-111.98980116467344,50.60545672854696                               15405.55   \n",
       "-111.98972121316767,50.60543898042324                               15411.25   \n",
       "\n",
       "                                       -111.81077980051134,50.48547035359942  \\\n",
       "-111.98997352370635,50.6074778278768                                33273.85   \n",
       "-111.98986337203984,50.60567539541235                               33282.15   \n",
       "-111.98985755118872,50.60627471812511                               33282.35   \n",
       "-111.98980116467344,50.60545672854696                               33286.55   \n",
       "-111.98972121316767,50.60543898042324                               33292.20   \n",
       "\n",
       "                                       -111.7987633419414,50.492400477339416  \\\n",
       "-111.98997352370635,50.6074778278768                                32421.15   \n",
       "-111.98986337203984,50.60567539541235                               32429.45   \n",
       "-111.98985755118872,50.60627471812511                               32429.65   \n",
       "-111.98980116467344,50.60545672854696                               32433.80   \n",
       "-111.98972121316767,50.60543898042324                               32439.45   \n",
       "\n",
       "                                       -111.93712352470823,50.5864586424768  \\\n",
       "-111.98997352370635,50.6074778278768                                 4931.2   \n",
       "-111.98986337203984,50.60567539541235                                4922.9   \n",
       "-111.98985755118872,50.60627471812511                                4922.7   \n",
       "-111.98980116467344,50.60545672854696                                4918.5   \n",
       "-111.98972121316767,50.60543898042324                                4912.8   \n",
       "\n",
       "                                       ...  \\\n",
       "-111.98997352370635,50.6074778278768   ...   \n",
       "-111.98986337203984,50.60567539541235  ...   \n",
       "-111.98985755118872,50.60627471812511  ...   \n",
       "-111.98980116467344,50.60545672854696  ...   \n",
       "-111.98972121316767,50.60543898042324  ...   \n",
       "\n",
       "                                       -111.95035522358194,50.6255379093181  \\\n",
       "-111.98997352370635,50.6074778278768                               10660.95   \n",
       "-111.98986337203984,50.60567539541235                              10669.25   \n",
       "-111.98985755118872,50.60627471812511                              10669.45   \n",
       "-111.98980116467344,50.60545672854696                              10673.65   \n",
       "-111.98972121316767,50.60543898042324                              10679.30   \n",
       "\n",
       "                                       -111.94706632897206,50.62098964280719  \\\n",
       "-111.98997352370635,50.6074778278768                                10154.85   \n",
       "-111.98986337203984,50.60567539541235                               10163.10   \n",
       "-111.98985755118872,50.60627471812511                               10163.30   \n",
       "-111.98980116467344,50.60545672854696                               10167.50   \n",
       "-111.98972121316767,50.60543898042324                               10173.15   \n",
       "\n",
       "                                       -111.9469131670666,50.63831916692557  \\\n",
       "-111.98997352370635,50.6074778278768                                9473.55   \n",
       "-111.98986337203984,50.60567539541235                               9481.85   \n",
       "-111.98985755118872,50.60627471812511                               9482.05   \n",
       "-111.98980116467344,50.60545672854696                               9486.25   \n",
       "-111.98972121316767,50.60543898042324                               9491.85   \n",
       "\n",
       "                                       -111.91843505379539,50.610466639766074  \\\n",
       "-111.98997352370635,50.6074778278768                                 10945.25   \n",
       "-111.98986337203984,50.60567539541235                                10953.50   \n",
       "-111.98985755118872,50.60627471812511                                10953.75   \n",
       "-111.98980116467344,50.60545672854696                                10957.90   \n",
       "-111.98972121316767,50.60543898042324                                10963.55   \n",
       "\n",
       "                                       -111.88513671708418,50.58524808557249  \\\n",
       "-111.98997352370635,50.6074778278768                                16814.80   \n",
       "-111.98986337203984,50.60567539541235                               16823.05   \n",
       "-111.98985755118872,50.60627471812511                               16823.25   \n",
       "-111.98980116467344,50.60545672854696                               16827.40   \n",
       "-111.98972121316767,50.60543898042324                               16833.10   \n",
       "\n",
       "                                       -111.8585189791055,50.62848935301355  \\\n",
       "-111.98997352370635,50.6074778278768                               20771.75   \n",
       "-111.98986337203984,50.60567539541235                              20780.05   \n",
       "-111.98985755118872,50.60627471812511                              20780.25   \n",
       "-111.98980116467344,50.60545672854696                              20784.45   \n",
       "-111.98972121316767,50.60543898042324                              20790.05   \n",
       "\n",
       "                                       -111.9706254566445,50.61858160891099  \\\n",
       "-111.98997352370635,50.6074778278768                                 9257.4   \n",
       "-111.98986337203984,50.60567539541235                                9265.7   \n",
       "-111.98985755118872,50.60627471812511                                9265.9   \n",
       "-111.98980116467344,50.60545672854696                                9270.1   \n",
       "-111.98972121316767,50.60543898042324                                9275.7   \n",
       "\n",
       "                                       -111.93448454418602,50.58619201152526  \\\n",
       "-111.98997352370635,50.6074778278768                                  4961.2   \n",
       "-111.98986337203984,50.60567539541235                                 4952.9   \n",
       "-111.98985755118872,50.60627471812511                                 4952.7   \n",
       "-111.98980116467344,50.60545672854696                                 4948.5   \n",
       "-111.98972121316767,50.60543898042324                                 4942.9   \n",
       "\n",
       "                                       -111.88129569127145,50.628919484529895  \\\n",
       "-111.98997352370635,50.6074778278768                                 19647.15   \n",
       "-111.98986337203984,50.60567539541235                                19655.45   \n",
       "-111.98985755118872,50.60627471812511                                19655.65   \n",
       "-111.98980116467344,50.60545672854696                                19659.85   \n",
       "-111.98972121316767,50.60543898042324                                19665.45   \n",
       "\n",
       "                                       -111.81166230542398,50.47805574752547  \n",
       "-111.98997352370635,50.6074778278768                                33336.05  \n",
       "-111.98986337203984,50.60567539541235                               33344.35  \n",
       "-111.98985755118872,50.60627471812511                               33344.55  \n",
       "-111.98980116467344,50.60545672854696                               33348.75  \n",
       "-111.98972121316767,50.60543898042324                               33354.35  \n",
       "\n",
       "[5 rows x 995 columns]"
      ]
     },
     "execution_count": 33,
     "metadata": {},
     "output_type": "execute_result"
    }
   ],
   "source": [
    "dataframe_of_distances.head()"
   ]
  },
  {
   "cell_type": "markdown",
   "metadata": {},
   "source": [
    "In the next time, we just need to load the dataframe and there is no need to repeat the previous steps."
   ]
  },
  {
   "cell_type": "code",
   "execution_count": 21,
   "metadata": {},
   "outputs": [],
   "source": [
    "import pickle\n",
    "with open('dataframe_of_distances.pkl', 'rb') as file:\n",
    "    dataframe_of_distances = pickle.load(file)"
   ]
  },
  {
   "cell_type": "markdown",
   "metadata": {},
   "source": [
    "We obtain standardized independent and dependent variables in each of the training and testing sets, as well as the coordinates of longitude and latitude associated with each of these sets."
   ]
  },
  {
   "cell_type": "code",
   "execution_count": 23,
   "metadata": {},
   "outputs": [
    {
     "name": "stdout",
     "output_type": "stream",
     "text": [
      "Defaulting to user installation because normal site-packages is not writeable\n",
      "Requirement already satisfied: scikit-learn in c:\\programdata\\anaconda3\\lib\\site-packages (1.5.1)\n",
      "Requirement already satisfied: numpy>=1.19.5 in c:\\programdata\\anaconda3\\lib\\site-packages (from scikit-learn) (1.26.4)\n",
      "Requirement already satisfied: scipy>=1.6.0 in c:\\programdata\\anaconda3\\lib\\site-packages (from scikit-learn) (1.13.1)\n",
      "Requirement already satisfied: joblib>=1.2.0 in c:\\programdata\\anaconda3\\lib\\site-packages (from scikit-learn) (1.4.2)\n",
      "Requirement already satisfied: threadpoolctl>=3.1.0 in c:\\programdata\\anaconda3\\lib\\site-packages (from scikit-learn) (3.5.0)\n"
     ]
    }
   ],
   "source": [
    "!pip install scikit-learn\n",
    "from sklearn.model_selection import train_test_split\n",
    "from sklearn import preprocessing\n",
    "x_train, x_test, y_train, y_test = train_test_split(\n",
    "    brooks.drop(['Price'],axis=1).values,\n",
    "    preprocessing.minmax_scale(brooks['Price'].values.reshape(-1, 1)),test_size=0.3, random_state=100)\n",
    "x_train=pd.DataFrame(x_train,columns=['Living','quality','structure','renovation','condiction','greenspace','Traffic',\n",
    "                                      'VIEW','Time','X','Y','lon','lat'])\n",
    "x_test=pd.DataFrame(x_test,columns=['Living','quality','structure','renovation','condiction','greenspace','Traffic',\n",
    "                                      'VIEW','Time','X','Y','lon','lat'])\n",
    "x_coord_train=x_train['X'].ravel().reshape(-1,1)\n",
    "y_coord_train=x_train['Y'].ravel().reshape(-1,1)\n",
    "lon_train=x_train['lon'].ravel().reshape(-1,1)\n",
    "lat_train=x_train['lat'].ravel().reshape(-1,1)\n",
    "time_train=x_train['Time'].ravel().reshape(-1,1)\n",
    "x_coord_test=x_test['X'].ravel().reshape(-1,1)\n",
    "y_coord_test=x_test['Y'].ravel().reshape(-1,1)\n",
    "lon_test=x_test['lon'].ravel().reshape(-1,1)\n",
    "lat_test=x_test['lat'].ravel().reshape(-1,1)\n",
    "time_test=x_test['Time'].ravel().reshape(-1,1)\n",
    "x_train=preprocessing.minmax_scale(x_train.drop(['Time','X','Y','lon','lat'],axis=1))\n",
    "x_test=preprocessing.minmax_scale(x_test.drop(['Time','X','Y','lon','lat'],axis=1))"
   ]
  },
  {
   "cell_type": "markdown",
   "metadata": {},
   "source": [
    "Now we obtain the geographic distance matrix for each of the training and testing sets individually. These matrices are used in the training and evaluation of adaptive kernels."
   ]
  },
  {
   "cell_type": "code",
   "execution_count": 35,
   "metadata": {},
   "outputs": [],
   "source": [
    "import math\n",
    "distances=[]\n",
    "for i in range(0,len(x_coord_train)):\n",
    "    dises=[]\n",
    "    for j in range(0,len(x_coord_train)):\n",
    "        diff_x=x_coord_train[i]-x_coord_train[j]\n",
    "        diff_y=y_coord_train[i]-y_coord_train[j]\n",
    "        dis=math.sqrt((diff_x**2)+(diff_y**2))\n",
    "        dises.append(dis)\n",
    "    distances.append(dises)\n",
    "strings=[]\n",
    "for i in range(0,len(x_coord_train)):\n",
    "    strings.append(str(round(x_coord_train[i][0],8))+','+str(round(y_coord_train[i][0],8)))\n",
    "df_euclidean_distances_train = pd.DataFrame(distances, columns=strings, index=strings)\n",
    "distances=[]\n",
    "for i in range(0,len(x_coord_test)):\n",
    "    dises=[]\n",
    "    for j in range(0,len(x_coord_train)):\n",
    "        diff_x=x_coord_test[i]-x_coord_train[j]\n",
    "        diff_y=y_coord_test[i]-y_coord_train[j]\n",
    "        dis=math.sqrt((diff_x**2)+(diff_y**2))\n",
    "        dises.append(dis)\n",
    "    distances.append(dises)\n",
    "indexes=[]\n",
    "for i in range(0,len(x_coord_test)):\n",
    "    indexes.append(str(round(x_coord_test[i][0],8))+','+str(round(y_coord_test[i][0],8)))\n",
    "cols=[]\n",
    "for i in range(0,len(x_coord_train)):\n",
    "    cols.append(str(round(x_coord_train[i][0],8))+','+str(round(y_coord_train[i][0],8)))\n",
    "df_euclidean_distances_test = pd.DataFrame(distances, columns=cols, index=indexes)"
   ]
  },
  {
   "cell_type": "markdown",
   "metadata": {},
   "source": [
    "We do the same for the travel distance matrix and divide it into two matrices: training and testing. The names of columns and indexes in the dataframe consist of a combination of latitude and longitude up to 8 decimal places."
   ]
  },
  {
   "cell_type": "code",
   "execution_count": 36,
   "metadata": {},
   "outputs": [],
   "source": [
    "cols = dataframe_of_distances.columns\n",
    "for col in cols:\n",
    "    lon=round(float(col.split(',')[0]),8)\n",
    "    lat=round(float(col.split(',')[1]),8)\n",
    "    col_name=str(lon)+','+str(lat)\n",
    "    dataframe_of_distances.rename(columns={col:col_name}, inplace =True)\n",
    "indices = dataframe_of_distances.index\n",
    "for idx in indices:\n",
    "    lon=round(float(idx.split(',')[0]),8)\n",
    "    lat=round(float(idx.split(',')[1]),8)\n",
    "    idx_name=str(lon)+','+str(lat)\n",
    "    dataframe_of_distances.rename(index={idx:idx_name}, inplace =True)\n",
    "trains=[]\n",
    "for i in range(0,len(lon_train)):\n",
    "    trains.append(str(round(lat_train[i][0],8))+','+str(round(lon_train[i][0],8)))\n",
    "df_train_travel_distances = dataframe_of_distances[trains]\n",
    "df_train_travel_distances = df_train_travel_distances.loc[trains]\n",
    "tests=[]\n",
    "for i in range(0,len(lon_test)):\n",
    "    tests.append(str(round(lat_test[i][0],8))+','+str(round(lon_test[i][0],8)))\n",
    "df_test_travel_distances = dataframe_of_distances[trains]\n",
    "df_test_travel_distances = df_test_travel_distances.loc[tests]"
   ]
  },
  {
   "cell_type": "markdown",
   "metadata": {},
   "source": [
    "Finally, we also form the time distance matrix."
   ]
  },
  {
   "cell_type": "code",
   "execution_count": 37,
   "metadata": {},
   "outputs": [],
   "source": [
    "distances=[]\n",
    "for i in range(0,len(time_train)):\n",
    "    dises=[]\n",
    "    for j in range(0,len(time_train)):\n",
    "        dis=abs(time_train[i][0]-time_train[j][0])\n",
    "        dises.append(dis)\n",
    "    distances.append(dises)\n",
    "strings=[]\n",
    "for i in range(0,len(time_train)):\n",
    "    strings.append(str(time_train[i][0]))\n",
    "df_times_train = pd.DataFrame(distances, columns=strings, index=strings)\n",
    "distances=[]\n",
    "for i in range(0,len(time_test)):\n",
    "    dises=[]\n",
    "    for j in range(0,len(time_train)):\n",
    "        dis=abs(time_test[i][0]-time_train[j][0])\n",
    "        dises.append(dis)\n",
    "    distances.append(dises)\n",
    "indexes=[]\n",
    "for i in range(0,len(time_test)):\n",
    "    indexes.append(str(time_test[i][0]))\n",
    "cols=[]\n",
    "for i in range(0,len(time_train)):\n",
    "    cols.append(str(time_train[i][0]))\n",
    "df_times_test = pd.DataFrame(distances, columns=cols, index=indexes)"
   ]
  },
  {
   "cell_type": "markdown",
   "metadata": {},
   "source": [
    "You can see the matrix of independent variables of the training set."
   ]
  },
  {
   "cell_type": "code",
   "execution_count": 69,
   "metadata": {
    "scrolled": true
   },
   "outputs": [
    {
     "data": {
      "text/html": [
       "<div>\n",
       "<style scoped>\n",
       "    .dataframe tbody tr th:only-of-type {\n",
       "        vertical-align: middle;\n",
       "    }\n",
       "\n",
       "    .dataframe tbody tr th {\n",
       "        vertical-align: top;\n",
       "    }\n",
       "\n",
       "    .dataframe thead th {\n",
       "        text-align: right;\n",
       "    }\n",
       "</style>\n",
       "<table border=\"1\" class=\"dataframe\">\n",
       "  <thead>\n",
       "    <tr style=\"text-align: right;\">\n",
       "      <th></th>\n",
       "      <th>Living</th>\n",
       "      <th>quality</th>\n",
       "      <th>structure</th>\n",
       "      <th>renovation</th>\n",
       "      <th>condiction</th>\n",
       "      <th>greenspace</th>\n",
       "      <th>Traffic</th>\n",
       "      <th>VIEW</th>\n",
       "    </tr>\n",
       "  </thead>\n",
       "  <tbody>\n",
       "    <tr>\n",
       "      <td>0</td>\n",
       "      <td>0.275720</td>\n",
       "      <td>0.218964</td>\n",
       "      <td>0.50</td>\n",
       "      <td>0.166667</td>\n",
       "      <td>1.000000</td>\n",
       "      <td>0.4</td>\n",
       "      <td>0.0</td>\n",
       "      <td>0.053192</td>\n",
       "    </tr>\n",
       "    <tr>\n",
       "      <td>1</td>\n",
       "      <td>0.313100</td>\n",
       "      <td>0.126826</td>\n",
       "      <td>0.25</td>\n",
       "      <td>1.000000</td>\n",
       "      <td>1.000000</td>\n",
       "      <td>0.0</td>\n",
       "      <td>0.0</td>\n",
       "      <td>0.031915</td>\n",
       "    </tr>\n",
       "    <tr>\n",
       "      <td>2</td>\n",
       "      <td>0.334019</td>\n",
       "      <td>0.150300</td>\n",
       "      <td>0.50</td>\n",
       "      <td>1.000000</td>\n",
       "      <td>1.000000</td>\n",
       "      <td>0.0</td>\n",
       "      <td>0.0</td>\n",
       "      <td>0.021277</td>\n",
       "    </tr>\n",
       "    <tr>\n",
       "      <td>3</td>\n",
       "      <td>0.336420</td>\n",
       "      <td>0.318127</td>\n",
       "      <td>0.50</td>\n",
       "      <td>1.000000</td>\n",
       "      <td>1.000000</td>\n",
       "      <td>0.0</td>\n",
       "      <td>1.0</td>\n",
       "      <td>0.031915</td>\n",
       "    </tr>\n",
       "    <tr>\n",
       "      <td>4</td>\n",
       "      <td>0.080932</td>\n",
       "      <td>0.090033</td>\n",
       "      <td>0.25</td>\n",
       "      <td>0.500000</td>\n",
       "      <td>0.333333</td>\n",
       "      <td>0.0</td>\n",
       "      <td>0.0</td>\n",
       "      <td>0.042554</td>\n",
       "    </tr>\n",
       "  </tbody>\n",
       "</table>\n",
       "</div>"
      ],
      "text/plain": [
       "     Living   quality  structure  renovation  condiction  greenspace  Traffic  \\\n",
       "0  0.275720  0.218964       0.50    0.166667    1.000000         0.4      0.0   \n",
       "1  0.313100  0.126826       0.25    1.000000    1.000000         0.0      0.0   \n",
       "2  0.334019  0.150300       0.50    1.000000    1.000000         0.0      0.0   \n",
       "3  0.336420  0.318127       0.50    1.000000    1.000000         0.0      1.0   \n",
       "4  0.080932  0.090033       0.25    0.500000    0.333333         0.0      0.0   \n",
       "\n",
       "       VIEW  \n",
       "0  0.053192  \n",
       "1  0.031915  \n",
       "2  0.021277  \n",
       "3  0.031915  \n",
       "4  0.042554  "
      ]
     },
     "execution_count": 69,
     "metadata": {},
     "output_type": "execute_result"
    }
   ],
   "source": [
    "import numpy as np\n",
    "headers = ['Living','quality','structure','renovation','condiction','greenspace','Traffic','VIEW']\n",
    "table=pd.DataFrame(x_train,columns=headers) \n",
    "table.head()"
   ]
  },
  {
   "cell_type": "markdown",
   "metadata": {},
   "source": [
    "Using the numpy, we add the y-intercept to the above matrix."
   ]
  },
  {
   "cell_type": "code",
   "execution_count": 70,
   "metadata": {},
   "outputs": [],
   "source": [
    "ones_train=np.ones(shape=x_train.shape[0]).reshape(-1,1)\n",
    "x_train=np.concatenate((ones_train,x_train),1)"
   ]
  },
  {
   "cell_type": "markdown",
   "metadata": {},
   "source": [
    "The final matrix of independent variables in the training set will be as follows."
   ]
  },
  {
   "cell_type": "code",
   "execution_count": 71,
   "metadata": {},
   "outputs": [
    {
     "data": {
      "text/html": [
       "<div>\n",
       "<style scoped>\n",
       "    .dataframe tbody tr th:only-of-type {\n",
       "        vertical-align: middle;\n",
       "    }\n",
       "\n",
       "    .dataframe tbody tr th {\n",
       "        vertical-align: top;\n",
       "    }\n",
       "\n",
       "    .dataframe thead th {\n",
       "        text-align: right;\n",
       "    }\n",
       "</style>\n",
       "<table border=\"1\" class=\"dataframe\">\n",
       "  <thead>\n",
       "    <tr style=\"text-align: right;\">\n",
       "      <th></th>\n",
       "      <th>Intercept</th>\n",
       "      <th>Living</th>\n",
       "      <th>quality</th>\n",
       "      <th>structure</th>\n",
       "      <th>renovation</th>\n",
       "      <th>condiction</th>\n",
       "      <th>greenspace</th>\n",
       "      <th>Traffic</th>\n",
       "      <th>VIEW</th>\n",
       "    </tr>\n",
       "  </thead>\n",
       "  <tbody>\n",
       "    <tr>\n",
       "      <td>0</td>\n",
       "      <td>1.0</td>\n",
       "      <td>0.275720</td>\n",
       "      <td>0.218964</td>\n",
       "      <td>0.50</td>\n",
       "      <td>0.166667</td>\n",
       "      <td>1.000000</td>\n",
       "      <td>0.4</td>\n",
       "      <td>0.0</td>\n",
       "      <td>0.053192</td>\n",
       "    </tr>\n",
       "    <tr>\n",
       "      <td>1</td>\n",
       "      <td>1.0</td>\n",
       "      <td>0.313100</td>\n",
       "      <td>0.126826</td>\n",
       "      <td>0.25</td>\n",
       "      <td>1.000000</td>\n",
       "      <td>1.000000</td>\n",
       "      <td>0.0</td>\n",
       "      <td>0.0</td>\n",
       "      <td>0.031915</td>\n",
       "    </tr>\n",
       "    <tr>\n",
       "      <td>2</td>\n",
       "      <td>1.0</td>\n",
       "      <td>0.334019</td>\n",
       "      <td>0.150300</td>\n",
       "      <td>0.50</td>\n",
       "      <td>1.000000</td>\n",
       "      <td>1.000000</td>\n",
       "      <td>0.0</td>\n",
       "      <td>0.0</td>\n",
       "      <td>0.021277</td>\n",
       "    </tr>\n",
       "    <tr>\n",
       "      <td>3</td>\n",
       "      <td>1.0</td>\n",
       "      <td>0.336420</td>\n",
       "      <td>0.318127</td>\n",
       "      <td>0.50</td>\n",
       "      <td>1.000000</td>\n",
       "      <td>1.000000</td>\n",
       "      <td>0.0</td>\n",
       "      <td>1.0</td>\n",
       "      <td>0.031915</td>\n",
       "    </tr>\n",
       "    <tr>\n",
       "      <td>4</td>\n",
       "      <td>1.0</td>\n",
       "      <td>0.080932</td>\n",
       "      <td>0.090033</td>\n",
       "      <td>0.25</td>\n",
       "      <td>0.500000</td>\n",
       "      <td>0.333333</td>\n",
       "      <td>0.0</td>\n",
       "      <td>0.0</td>\n",
       "      <td>0.042554</td>\n",
       "    </tr>\n",
       "  </tbody>\n",
       "</table>\n",
       "</div>"
      ],
      "text/plain": [
       "   Intercept    Living   quality  structure  renovation  condiction  \\\n",
       "0        1.0  0.275720  0.218964       0.50    0.166667    1.000000   \n",
       "1        1.0  0.313100  0.126826       0.25    1.000000    1.000000   \n",
       "2        1.0  0.334019  0.150300       0.50    1.000000    1.000000   \n",
       "3        1.0  0.336420  0.318127       0.50    1.000000    1.000000   \n",
       "4        1.0  0.080932  0.090033       0.25    0.500000    0.333333   \n",
       "\n",
       "   greenspace  Traffic      VIEW  \n",
       "0         0.4      0.0  0.053192  \n",
       "1         0.0      0.0  0.031915  \n",
       "2         0.0      0.0  0.021277  \n",
       "3         0.0      1.0  0.031915  \n",
       "4         0.0      0.0  0.042554  "
      ]
     },
     "execution_count": 71,
     "metadata": {},
     "output_type": "execute_result"
    }
   ],
   "source": [
    "headers = ['Intercept','Living','quality','structure','renovation','condiction','greenspace','Traffic','VIEW']\n",
    "table=pd.DataFrame(x_train,columns=headers) \n",
    "table.head()"
   ]
  },
  {
   "cell_type": "markdown",
   "metadata": {},
   "source": [
    "We do the same for test data."
   ]
  },
  {
   "cell_type": "code",
   "execution_count": 41,
   "metadata": {},
   "outputs": [],
   "source": [
    "ones_test=np.ones(shape=x_test.shape[0]).reshape(-1,1)\n",
    "x_test=np.concatenate((ones_test,x_test),1)"
   ]
  },
  {
   "cell_type": "markdown",
   "metadata": {},
   "source": [
    "Now we need to obtain the parameters using relationship 2."
   ]
  },
  {
   "cell_type": "code",
   "execution_count": 42,
   "metadata": {},
   "outputs": [],
   "source": [
    "params=np.linalg.inv(x_train.transpose().dot(x_train)).dot(x_train.transpose()).dot(y_train)"
   ]
  },
  {
   "cell_type": "markdown",
   "metadata": {},
   "source": [
    "You can see the obtained parameters."
   ]
  },
  {
   "cell_type": "code",
   "execution_count": 43,
   "metadata": {},
   "outputs": [
    {
     "name": "stdout",
     "output_type": "stream",
     "text": [
      "╒════════════╤════════════╕\n",
      "│      param │ value      │\n",
      "╞════════════╪════════════╡\n",
      "│  0.103482  │ Intercept  │\n",
      "├────────────┼────────────┤\n",
      "│  0.379694  │ Living     │\n",
      "├────────────┼────────────┤\n",
      "│  0.133689  │ quality    │\n",
      "├────────────┼────────────┤\n",
      "│  0.376858  │ structure  │\n",
      "├────────────┼────────────┤\n",
      "│ -0.0441764 │ renovation │\n",
      "├────────────┼────────────┤\n",
      "│  0.0244632 │ condiction │\n",
      "├────────────┼────────────┤\n",
      "│  0.010614  │ greenspace │\n",
      "├────────────┼────────────┤\n",
      "│ -0.0360452 │ Traffic    │\n",
      "├────────────┼────────────┤\n",
      "│  0.131379  │ VIEW       │\n",
      "╘════════════╧════════════╛\n"
     ]
    }
   ],
   "source": [
    "#!pip install tabulate\n",
    "from tabulate import tabulate\n",
    "m = np.array([[item for sublist in params.tolist() for item in sublist],\n",
    "              ['Intercept','Living','quality','structure','renovation','condiction','greenspace','Traffic','VIEW']])\n",
    "headers = [\"param\", \"value\"]\n",
    "\n",
    "# Generate the table in fancy format.\n",
    "table = tabulate(m.transpose(), headers, tablefmt=\"fancy_grid\")\n",
    "\n",
    "# Show it.\n",
    "print(table)"
   ]
  },
  {
   "cell_type": "markdown",
   "metadata": {},
   "source": [
    "So far we have finished training the data, now we need to evaluate the method, so we need to get the predictive values of the test data using the relationship 1."
   ]
  },
  {
   "cell_type": "code",
   "execution_count": 44,
   "metadata": {},
   "outputs": [],
   "source": [
    "predicts=[]\n",
    "for i in range(0,len(x_test)):\n",
    "    prediction=params.T.dot(x_test[i].T)\n",
    "    predicts.append(prediction)"
   ]
  },
  {
   "cell_type": "markdown",
   "metadata": {},
   "source": [
    "Now we need to obtain the accuracy of the desired method using the coefficient of determination, the coefficient of determination function is defined as follows."
   ]
  },
  {
   "cell_type": "code",
   "execution_count": 45,
   "metadata": {},
   "outputs": [],
   "source": [
    "def r_squared(y, y_hat):\n",
    "    y_bar = y.mean()\n",
    "    ss_tot = ((y-y_bar)**2).sum()\n",
    "    ss_res = ((y-y_hat)**2).sum()\n",
    "    return 1 - (ss_res/ss_tot)"
   ]
  },
  {
   "cell_type": "markdown",
   "metadata": {},
   "source": [
    "The value of the coefficient of determination is equal to"
   ]
  },
  {
   "cell_type": "code",
   "execution_count": 46,
   "metadata": {},
   "outputs": [
    {
     "name": "stdout",
     "output_type": "stream",
     "text": [
      "0.661273637529638\n"
     ]
    }
   ],
   "source": [
    "print(r_squared(y_test, predicts))"
   ]
  },
  {
   "cell_type": "markdown",
   "metadata": {},
   "source": [
    "Reference of the above content\n",
    "https://towardsdatascience.com/multiple-linear-regression-from-scratch-in-numpy-36a3e8ac8014"
   ]
  },
  {
   "cell_type": "markdown",
   "metadata": {},
   "source": [
    "The geographically weighted regression method is defined as multiple linear regression, with the difference that the parameters are obtained from the following relation(relationship 3):"
   ]
  },
  {
   "cell_type": "markdown",
   "metadata": {},
   "source": [
    "<img src='data:image/png;base64,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'>"
   ]
  },
  {
   "cell_type": "markdown",
   "metadata": {},
   "source": [
    "In relationship 3, matrix w is a diagonal matrix in which the elements outside the main diameter are equal to zero and the principal diameter elements are weighted to each observation to estimate the ith point\n",
    "(relationship 4)"
   ]
  },
  {
   "cell_type": "markdown",
   "metadata": {},
   "source": [
    "<img src='data:image/png;base64,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'>"
   ]
  },
  {
   "cell_type": "markdown",
   "metadata": {},
   "source": [
    "To define the weight matrix, the type of core and its function must be determined. In the fixed core, the spatial bandwidth is fixed and the weight of the observations that are placed in the considered bandwidth is determined based on their distance from the reference point, so the farther points are given less weight and the closer points are given more weight. This is well illustrated in the figure corresponding to the fixed core. The curves of this figure also represent the weighting functions of the observations around the reference point, but if the distribution of observations is not the same throughout the study area, it is likely that less information will be used for some points and in fact fewer points will be placed in the intended bandwidth and eventually fewer points will be used to estimate the reference point. To overcome this problem, the adaptive core is used. In this method, the bandwidth is determined based on the density of observations around the reference point, so that for each reference point, the number of observations is constant. Thus, in a fixed core, the bandwidth is constant but the number of observation points is different to estimate each reference point. In the adaptive core, the bandwidth is variable but the number of observation points is constant to estimate the reference point(figure 1)."
   ]
  },
  {
   "cell_type": "markdown",
   "metadata": {},
   "source": [
    "<img src='data:image/png;base64,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'>"
   ]
  },
  {
   "cell_type": "markdown",
   "metadata": {},
   "source": [
    "The weight assigned to each observation to estimate the reference point in each of the fixed and adaptive cores is obtained from the table below.\n",
    "(Table 1)"
   ]
  },
  {
   "cell_type": "markdown",
   "metadata": {},
   "source": [
    "<img src='data:image/png;base64,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'>"
   ]
  },
  {
   "cell_type": "markdown",
   "metadata": {},
   "source": [
    "Now we will implement the geographical weighted regression method. This method has a parameter called spatial bandwidth that needs to be obtained. This parameter obtain from the cross-validation method. There are different types of methods that we can use here. We use leave one out cross validation method. In this method the training set is divided into two parts: training and validation.The training set includes all the training data except one item that is used in the validation set. Using the training set, we predict the y value of the validation set. This will lead to the first round of the validation process. In the next round, the item that was in the validation set in the previous round will be used in the training set and another item from the training set will be used in the validation set. Using the training set, we predict the y value of the validation set. Thus, the second round of the validation process is also completed. This process continues until all the training points are used once as an unknown point in the validation set and their y value is predicted based on the training set. In each of the rounds of the validation process, an error is obtained, and the error obtained from all rounds is obtained using the residual sum of squares method. Throughout this process, we use a spatial bandwidth. So again we use the cross-validation process for the another bandwidth and get the residual sum of squares obtained. Assuming that the spatial bandwidth of the first process is equal to 50 and the residual sum of its squares is equal to 20, and also in the second process, the spatial bandwidth is equal to 100 and the residual sum of its squares is equal to 10. The spatial bandwidth of the second process is selected. Again, we do a cross-validation process, and this time the spatial bandwidth is nominated for 150, because in the previous process, we saw that as the spatial bandwidth increases, the residual sum of squares decreases. If the residual sum of squares decreases this time, we will increase the spatial bandwidth again, and we will do this until the residual sum of squares is greater than the previous process in one of the cross-validation processes."
   ]
  },
  {
   "cell_type": "markdown",
   "metadata": {},
   "source": [
    "Reference of the above content\n",
    "https://uk.sagepub.com/en-gb/eur/gis-algorithms/book241284 Chapter Eight"
   ]
  },
  {
   "cell_type": "markdown",
   "metadata": {},
   "source": [
    "First, we will implement the geographically weighted regression method with a fixed core and euclidean distance. Therefore, we first do the training phase, which involves the use of the cross-validation method."
   ]
  },
  {
   "cell_type": "code",
   "execution_count": 47,
   "metadata": {},
   "outputs": [
    {
     "name": "stdout",
     "output_type": "stream",
     "text": [
      "r2 score euclidean fixed GWR for train 0.8195815275858459\n"
     ]
    }
   ],
   "source": [
    "from sklearn.metrics import r2_score\n",
    "import math\n",
    "predictions_of_euclidean_fixed_gwr_for_train=[]\n",
    "geographic_bandwidth_for_euclidean_fixed_gwr=800\n",
    "for k in range(0,len(x_train)):\n",
    "    current_coords=[x_coord_train[k][0],y_coord_train[k][0]]\n",
    "    x_train_of_cv=np.asarray(x_train[0:k].tolist()+x_train[k+1::].tolist())\n",
    "    y_train_of_cv=np.asarray(y_train[0:k].tolist()+y_train[k+1::].tolist())\n",
    "    x_coords_train_of_cv=np.asarray(x_coord_train[0:k].tolist()+x_coord_train[k+1::].tolist())\n",
    "    y_coords_train_of_cv=np.asarray(y_coord_train[0:k].tolist()+y_coord_train[k+1::].tolist())\n",
    "    n = len(x_train_of_cv)\n",
    "    weights=[]\n",
    "    for i in range(0,n):\n",
    "        diff_geographic=[current_coords[0]-x_coords_train_of_cv[i][0],current_coords[1]-y_coords_train_of_cv[i][0]]\n",
    "        dis_geographic=math.sqrt(diff_geographic[0]**2+diff_geographic[1]**2)\n",
    "        weight_geographic=math.exp((-1)*(dis_geographic/geographic_bandwidth_for_euclidean_fixed_gwr))\n",
    "        weights.append(weight_geographic)\n",
    "    matrix=np.array(weights)\n",
    "    matrix=np.diag(matrix)\n",
    "    elem1=np.linalg.inv((x_train_of_cv.T).dot(matrix).dot(x_train_of_cv))\n",
    "    elem2=(x_train_of_cv.T).dot(matrix).dot(y_train_of_cv)\n",
    "    beta=(elem1).dot(elem2)\n",
    "    predict=beta.T.dot(np.array(x_train[k]).T)\n",
    "    predictions_of_euclidean_fixed_gwr_for_train.append(predict.tolist()[0])\n",
    "    \n",
    "print('r2 score euclidean fixed GWR for train',r2_score(y_train, predictions_of_euclidean_fixed_gwr_for_train))"
   ]
  },
  {
   "cell_type": "markdown",
   "metadata": {},
   "source": [
    "Now, we need to evaluate the test data using the parameter obtained from the previous step."
   ]
  },
  {
   "cell_type": "code",
   "execution_count": 20,
   "metadata": {},
   "outputs": [
    {
     "name": "stdout",
     "output_type": "stream",
     "text": [
      "r2 score euclidean fixed GWR for test 0.7616172920861946\n"
     ]
    }
   ],
   "source": [
    "predictions_of_euclidean_fixed_gwr_for_test=[]\n",
    "for k in range(0,len(x_test)):\n",
    "    current_coords=[x_coord_test[k][0],y_coord_test[k][0]]\n",
    "    n = len(x_train)\n",
    "    weights=[]\n",
    "    for i in range(0,n):\n",
    "        diff_geographic=[current_coords[0]-x_coord_train[i][0],current_coords[1]-y_coord_train[i][0]]\n",
    "        dis_geographic=math.sqrt(diff_geographic[0]**2+diff_geographic[1]**2)\n",
    "        weight_geographic=math.exp((-1)*(dis_geographic/geographic_bandwidth_for_euclidean_fixed_gwr))\n",
    "        weights.append(weight_geographic)\n",
    "    matrix=np.array(weights)\n",
    "    matrix=np.diag(matrix)            \n",
    "    elem1=np.linalg.inv((x_train.T).dot(matrix).dot(x_train))\n",
    "    elem2=(x_train.T).dot(matrix).dot(y_train)\n",
    "    beta=(elem1).dot(elem2)\n",
    "    predict=beta.T.dot(np.array(x_test[k]).T)\n",
    "    predictions_of_euclidean_fixed_gwr_for_test.append(predict)\n",
    "\n",
    "print('r2 score euclidean fixed GWR for test',r2_score(y_test, predictions_of_euclidean_fixed_gwr_for_test))"
   ]
  },
  {
   "cell_type": "markdown",
   "metadata": {},
   "source": [
    "The spatiotemporal weighted regression method is defined as the geographical weighted regression method, with the difference that the weight of each observation for estimating the reference point includes the time weight in addition to the geographical weight. Time weight is also defined as spatial weight, except that instead of spatial bandwidth, we have time bandwidth. Therefore, in addition to spatial bandwidth, temporal bandwidth must also be adjusted. The spatial bandwidth obtained from the previous step is also used here, so only the temporal bandwidth needs to be adjusted. The final weight assigned to each observation is obtained from the product of spatial weight and temporal weight. You will see the training step of the spatiotemporally Weighted Regression Method with a fixed core and Euclidean distance."
   ]
  },
  {
   "cell_type": "code",
   "execution_count": 21,
   "metadata": {},
   "outputs": [
    {
     "name": "stdout",
     "output_type": "stream",
     "text": [
      "r2 score euclidean fixed GTWR for train 0.8267168488799708\n"
     ]
    }
   ],
   "source": [
    "time_bandwidth_for_euclidean_fixed_gtwr=300\n",
    "predictions_of_euclidean_fixed_gtwr_for_train=[]\n",
    "for k in range(0,len(x_train)):\n",
    "    current_coords=[x_coord_train[k][0],y_coord_train[k][0]]\n",
    "    current_time=time_train[k]\n",
    "    x_train_of_cv=np.asarray(x_train[0:k].tolist()+x_train[k+1::].tolist())\n",
    "    y_train_of_cv=np.asarray(y_train[0:k].tolist()+y_train[k+1::].tolist())\n",
    "    x_coords_train_of_cv=np.asarray(x_coord_train[0:k].tolist()+x_coord_train[k+1::].tolist())\n",
    "    y_coords_train_of_cv=np.asarray(y_coord_train[0:k].tolist()+y_coord_train[k+1::].tolist())\n",
    "    time_train_of_cv=np.asarray(time_train[0:k].tolist()+time_train[k+1::].tolist())\n",
    "    n = len(x_train_of_cv)\n",
    "    weights=[]\n",
    "    for i in range(0,n):\n",
    "        diff_geographic=[current_coords[0]-x_coords_train_of_cv[i][0],current_coords[1]-y_coords_train_of_cv[i][0]]\n",
    "        dis_geographic=math.sqrt(diff_geographic[0]**2+diff_geographic[1]**2)\n",
    "        weight_geographic=math.exp((-1)*(dis_geographic/geographic_bandwidth_for_euclidean_fixed_gwr))\n",
    "        dis_time=np.abs(current_time-time_train_of_cv[i])\n",
    "        weight_time=math.exp((-1)*(dis_time/time_bandwidth_for_euclidean_fixed_gtwr))\n",
    "        weights.append(weight_geographic*weight_time)\n",
    "    matrix=np.array(weights)\n",
    "    matrix=np.diag(matrix)\n",
    "    elem1=np.linalg.inv((x_train_of_cv.T).dot(matrix).dot(x_train_of_cv))\n",
    "    elem2=(x_train_of_cv.T).dot(matrix).dot(y_train_of_cv)\n",
    "    beta=(elem1).dot(elem2)\n",
    "    predict=beta.T.dot(np.array(x_train[k]).T)\n",
    "    predictions_of_euclidean_fixed_gtwr_for_train.append(predict.tolist()[0])\n",
    "    \n",
    "print('r2 score euclidean fixed GTWR for train',r2_score(y_train, predictions_of_euclidean_fixed_gtwr_for_train))"
   ]
  },
  {
   "cell_type": "markdown",
   "metadata": {},
   "source": [
    "Now, we need to evaluate the spatiotemporal weighted regression method with a constant core and Euclidean distance using the test data."
   ]
  },
  {
   "cell_type": "code",
   "execution_count": 22,
   "metadata": {},
   "outputs": [
    {
     "name": "stdout",
     "output_type": "stream",
     "text": [
      "r2 score euclidean fixed GTWR for test 0.7533142422646272\n"
     ]
    }
   ],
   "source": [
    "predictions_of_euclidean_fixed_gtwr_for_test=[]\n",
    "for k in range(0,len(x_test)):\n",
    "    current_coords=[x_coord_test[k][0],y_coord_test[k][0]]\n",
    "    current_time=time_test[k]\n",
    "    n = len(x_train)\n",
    "    weights=[]\n",
    "    for i in range(0,n):\n",
    "        diff_geographic=[current_coords[0]-x_coord_train[i][0],current_coords[1]-y_coord_train[i][0]]\n",
    "        dis_geographic=math.sqrt(diff_geographic[0]**2+diff_geographic[1]**2)\n",
    "        weight_geographic=math.exp((-1)*(dis_geographic/geographic_bandwidth_for_euclidean_fixed_gwr))\n",
    "        dis_time=np.abs(current_time-time_train[i])\n",
    "        weight_time=math.exp((-1)*(dis_time/time_bandwidth_for_euclidean_fixed_gtwr))\n",
    "        weights.append(weight_geographic*weight_time)\n",
    "    matrix=np.array(weights)\n",
    "    matrix=np.diag(matrix)            \n",
    "    elem1=np.linalg.inv((x_train.T).dot(matrix).dot(x_train))\n",
    "    elem2=(x_train.T).dot(matrix).dot(y_train)\n",
    "    beta=(elem1).dot(elem2)\n",
    "    predict=beta.T.dot(np.array(x_test[k]).T)\n",
    "    predictions_of_euclidean_fixed_gtwr_for_test.append(predict)\n",
    "\n",
    "print('r2 score euclidean fixed GTWR for test',r2_score(y_test, predictions_of_euclidean_fixed_gtwr_for_test))"
   ]
  },
  {
   "cell_type": "markdown",
   "metadata": {},
   "source": [
    "In the geographical weighted regression method with an adaptive core, the training data are first sorted based on their distance from the validation point. For example, if we consider the number of 70 neighboring points to predict the validation point, then the distance of the 70th training point from the validation point is introduced as the spatial bandwidth. Then, to obtain the weight of each training point in estimating the validation point, if the distance of that training point is less than the validation point, we use the formula in Table 1, otherwise the weight of that point will be equal to zero. Now we will train the method of geographical weighted regression with adaptive core and Euclidean distance."
   ]
  },
  {
   "cell_type": "code",
   "execution_count": 23,
   "metadata": {},
   "outputs": [
    {
     "name": "stdout",
     "output_type": "stream",
     "text": [
      "r2 score euclidean adaptive GWR for train 0.8189329341000666\n"
     ]
    }
   ],
   "source": [
    "predictions_of_euclidean_adaptive_gwr_for_train=[]\n",
    "n_neighbours_of_euclidean_adaptive_gwr_for_geographic=110\n",
    "for k in range(0,len(x_train)):\n",
    "    current_coords=[x_coord_train[k][0],y_coord_train[k][0]]\n",
    "    desired_index=str(round(current_coords[0],8))+','+str(round(current_coords[1],8))\n",
    "    current_geographic_distances=df_euclidean_distances_train[desired_index].values.tolist()\n",
    "    current_geographic_distances.sort()\n",
    "    neighbours=current_geographic_distances[1:n_neighbours_of_euclidean_adaptive_gwr_for_geographic+1]\n",
    "    geographic_bandwidth=neighbours[-1]\n",
    "    if type(geographic_bandwidth)==list:\n",
    "        geographic_bandwidth=geographic_bandwidth[0]\n",
    "    train_x_of_cv=np.asarray(x_train[0:k].tolist()+x_train[k+1::].tolist())\n",
    "    train_y_of_cv=np.asarray(y_train[0:k].tolist()+y_train[k+1::].tolist())\n",
    "    train_xcoords_of_cv=np.asarray(x_coord_train[0:k].tolist()+x_coord_train[k+1::].tolist())\n",
    "    train_ycoords_of_cv=np.asarray(y_coord_train[0:k].tolist()+y_coord_train[k+1::].tolist())\n",
    "    n = len(train_x_of_cv)\n",
    "    weights=[]\n",
    "    for i in range(0,n):\n",
    "        diff_geographic=[current_coords[0]-train_xcoords_of_cv[i][0],current_coords[1]-train_ycoords_of_cv[i][0]]\n",
    "        dis_geographic=math.sqrt(diff_geographic[0]**2+diff_geographic[1]**2)\n",
    "        if dis_geographic<=geographic_bandwidth:\n",
    "            weight_geographic=(1-(dis_geographic/geographic_bandwidth)**2)**2\n",
    "        else:\n",
    "            weight_geographic=0\n",
    "        weights.append(weight_geographic)\n",
    "    matrix=np.array(weights)\n",
    "    matrix=np.diag(matrix)\n",
    "    elem1=np.linalg.inv((train_x_of_cv.T).dot(matrix).dot(train_x_of_cv))\n",
    "    elem2=(train_x_of_cv.T).dot(matrix).dot(train_y_of_cv)\n",
    "    beta=(elem1).dot(elem2)\n",
    "    predict=beta.T.dot(np.array(x_train[k]).T)\n",
    "    predictions_of_euclidean_adaptive_gwr_for_train.append(predict.tolist()[0])\n",
    "\n",
    "print('r2 score euclidean adaptive GWR for train',r2_score(y_train, predictions_of_euclidean_adaptive_gwr_for_train))"
   ]
  },
  {
   "cell_type": "markdown",
   "metadata": {},
   "source": [
    "Now we perform the evaluation of the geographically weighted regression method with the adaptive core and Euclidean distance."
   ]
  },
  {
   "cell_type": "code",
   "execution_count": 24,
   "metadata": {},
   "outputs": [
    {
     "name": "stdout",
     "output_type": "stream",
     "text": [
      "r2 score euclidean adaptive GWR for test 0.7434580699737038\n"
     ]
    }
   ],
   "source": [
    "predictions_of_euclidean_adaptive_gwr_for_test=[]\n",
    "for k in range(0,len(x_test)):\n",
    "    current_coords=[x_coord_test[k][0],y_coord_test[k][0]]\n",
    "    desired_index=str(round(current_coords[0],8))+','+str(round(current_coords[1],8))\n",
    "    current_geographic_distances=df_euclidean_distances_test.loc[desired_index].values.tolist()\n",
    "    current_geographic_distances.sort()\n",
    "    neighbours=current_geographic_distances[0:n_neighbours_of_euclidean_adaptive_gwr_for_geographic]\n",
    "    geographic_bandwidth=neighbours[-1]\n",
    "    n = len(x_train)\n",
    "    weights=[]\n",
    "    for i in range(0,n):\n",
    "        diff_geographic=[current_coords[0]-x_coord_train[i][0],current_coords[1]-y_coord_train[i][0]]\n",
    "        dis_geographic=math.sqrt(diff_geographic[0]**2+diff_geographic[1]**2)\n",
    "        if dis_geographic<=geographic_bandwidth:\n",
    "            weight_geographic=(1-(dis_geographic/geographic_bandwidth)**2)**2\n",
    "        else:\n",
    "            weight_geographic=0\n",
    "        weights.append(weight_geographic)\n",
    "    matrix=np.array(weights)\n",
    "    matrix=np.diag(matrix)            \n",
    "    elem1=np.linalg.inv((x_train.T).dot(matrix).dot(x_train))\n",
    "    elem2=(x_train.T).dot(matrix).dot(y_train)\n",
    "    beta=(elem1).dot(elem2)\n",
    "    predict=beta.T.dot(np.array(x_test[k]).T)\n",
    "    predictions_of_euclidean_adaptive_gwr_for_test.append(predict)\n",
    "\n",
    "print('r2 score euclidean adaptive GWR for test',r2_score(y_test, predictions_of_euclidean_adaptive_gwr_for_test))"
   ]
  },
  {
   "cell_type": "markdown",
   "metadata": {},
   "source": [
    "Now we will train the method of geographically weighted regression with adaptive core and Euclidean distance."
   ]
  },
  {
   "cell_type": "code",
   "execution_count": 25,
   "metadata": {},
   "outputs": [
    {
     "name": "stdout",
     "output_type": "stream",
     "text": [
      "r2 score euclidean adaptive GTWR for train 0.8225775096323015\n"
     ]
    }
   ],
   "source": [
    "predictions_of_euclidean_adaptive_gtwr_for_train=[]\n",
    "n_neighbours_of_euclidean_adaptive_gtwr_for_time=300\n",
    "for k in range(0,len(x_train)):\n",
    "    current_coords=[round(x_coord_train[k][0],8),round(y_coord_train[k][0],8)]\n",
    "    desired_index=str(current_coords[0])+','+str(current_coords[1])\n",
    "    current_geographic_distances=df_euclidean_distances_train[desired_index].values.tolist()\n",
    "    current_geographic_distances.sort()\n",
    "    neighbours=current_geographic_distances[1:n_neighbours_of_euclidean_adaptive_gwr_for_geographic+1]\n",
    "    geographic_bandwidth=neighbours[-1]\n",
    "    if type(geographic_bandwidth)!=float:\n",
    "        geographic_bandwidth=geographic_bandwidth[0]\n",
    "    current_time=time_train[k][0]\n",
    "    desired_index_time=str(current_time)\n",
    "    current_time_distances=df_times_train.loc[desired_index_time].values.tolist()\n",
    "    len_current_time_distances=len(current_time_distances)\n",
    "    if len(current_time_distances)!=699:\n",
    "        current_time_distances=list(set(df_times_train.loc[desired_index_time].values.tolist()[0]))\n",
    "    elif len(current_time_distances)==699:\n",
    "        current_time_distances=list(set(df_times_train.loc[desired_index_time].values.tolist()))\n",
    "    current_time_distances.sort()\n",
    "    if len_current_time_distances!=699:\n",
    "        neighbours_time=current_time_distances[0:n_neighbours_of_euclidean_adaptive_gtwr_for_time]\n",
    "    elif len_current_time_distances==699:\n",
    "        neighbours_time=current_time_distances[1:n_neighbours_of_euclidean_adaptive_gtwr_for_time+1]\n",
    "    time_bandwidth=neighbours_time[-1]\n",
    "    train_x_of_cv=np.asarray(x_train[0:k].tolist()+x_train[k+1::].tolist())\n",
    "    train_y_of_cv=np.asarray(y_train[0:k].tolist()+y_train[k+1::].tolist())\n",
    "    train_xcoords_of_cv=np.asarray(x_coord_train[0:k].tolist()+x_coord_train[k+1::].tolist())\n",
    "    train_ycoords_of_cv=np.asarray(y_coord_train[0:k].tolist()+y_coord_train[k+1::].tolist())\n",
    "    train_times_of_cv=np.asarray(time_train[0:k].tolist()+time_train[k+1::].tolist())\n",
    "    n = len(train_x_of_cv)\n",
    "    weights=[]\n",
    "    for i in range(0,n):\n",
    "        diff_geographic=[current_coords[0]-train_xcoords_of_cv[i][0],current_coords[1]-train_ycoords_of_cv[i][0]]\n",
    "        dis_geographic=math.sqrt(diff_geographic[0]**2+diff_geographic[1]**2)\n",
    "        if dis_geographic<=geographic_bandwidth:\n",
    "            weight_geographic=(1-(dis_geographic/geographic_bandwidth)**2)**2\n",
    "        else:\n",
    "            weight_geographic=0\n",
    "        dis_time=np.abs(current_time-train_times_of_cv[i])[0]\n",
    "        if dis_time<=time_bandwidth:\n",
    "            weight_time=(1-(dis_time/time_bandwidth)**2)**2\n",
    "        else:\n",
    "            weight_time=0\n",
    "        weight=weight_geographic*weight_time\n",
    "        weights.append(weight)\n",
    "    matrix=np.array(weights)\n",
    "    matrix=np.diag(matrix)\n",
    "    elem1=np.linalg.inv((train_x_of_cv.T).dot(matrix).dot(train_x_of_cv))\n",
    "    elem2=(train_x_of_cv.T).dot(matrix).dot(train_y_of_cv)\n",
    "    beta=(elem1).dot(elem2)\n",
    "    predict=beta.T.dot(np.array(x_train[k]).T)\n",
    "    predictions_of_euclidean_adaptive_gtwr_for_train.append(predict.tolist()[0])\n",
    "\n",
    "print('r2 score euclidean adaptive GTWR for train',r2_score(y_train, predictions_of_euclidean_adaptive_gtwr_for_train))"
   ]
  },
  {
   "cell_type": "markdown",
   "metadata": {},
   "source": [
    "Now, we will evaluate the spatiotemporal weighted regression method with the adaptive core and Euclidean distance."
   ]
  },
  {
   "cell_type": "code",
   "execution_count": 26,
   "metadata": {},
   "outputs": [
    {
     "name": "stdout",
     "output_type": "stream",
     "text": [
      "r2 score euclidean adaptive GTWR for test 0.7163975747276754\n"
     ]
    }
   ],
   "source": [
    "predictions_of_euclidean_adaptive_gtwr_for_test=[]\n",
    "for k in range(0,len(x_test)):\n",
    "    current_coords=[x_coord_test[k][0],y_coord_test[k][0]]\n",
    "    desired_index=str(round(current_coords[0],8))+','+str(round(current_coords[1],8))\n",
    "    current_geographic_distances=df_euclidean_distances_test.loc[desired_index].values.tolist()\n",
    "    current_geographic_distances.sort()\n",
    "    neighbours=current_geographic_distances[0:n_neighbours_of_euclidean_adaptive_gwr_for_geographic]\n",
    "    geographic_bandwidth=neighbours[-1]\n",
    "    current_time=time_test[k][0]\n",
    "    desired_index_time=str(current_time)\n",
    "    current_time_distances=df_times_test.loc[desired_index_time].values.tolist()\n",
    "    if len(current_time_distances)!=699:\n",
    "        current_time_distances=list(set(df_times_test.loc[desired_index_time].values.tolist()[0]))\n",
    "    elif len(current_time_distances)==699:\n",
    "        current_time_distances=list(set(df_times_test.loc[desired_index_time].values.tolist()))\n",
    "    current_time_distances.sort()\n",
    "    neighbours_time=current_time_distances[0:n_neighbours_of_euclidean_adaptive_gtwr_for_time]\n",
    "    time_bandwidth=neighbours_time[-1]\n",
    "    n = len(x_train)\n",
    "    weights=[]\n",
    "    for i in range(0,n):\n",
    "        diff_geographic=[current_coords[0]-x_coord_train[i][0],current_coords[1]-y_coord_train[i][0]]\n",
    "        dis_geographic=math.sqrt(diff_geographic[0]**2+diff_geographic[1]**2)\n",
    "        if dis_geographic<=geographic_bandwidth:\n",
    "            weight_geographic=(1-(dis_geographic/geographic_bandwidth)**2)**2\n",
    "        else:\n",
    "            weight_geographic=0\n",
    "        dis_time=np.abs(current_time-time_train[i][0])\n",
    "        if dis_time<=time_bandwidth:\n",
    "            weight_time=(1-(dis_time/time_bandwidth)**2)**2\n",
    "        else:\n",
    "            weight_time=0\n",
    "        weight=weight_geographic*weight_time\n",
    "        weights.append(weight)\n",
    "    matrix=np.array(weights)\n",
    "    matrix=np.diag(matrix)            \n",
    "    elem1=np.linalg.inv((x_train.T).dot(matrix).dot(x_train))\n",
    "    elem2=(x_train.T).dot(matrix).dot(y_train)\n",
    "    beta=(elem1).dot(elem2)\n",
    "    predict=beta.T.dot(np.array(x_test[k]).T)\n",
    "    predictions_of_euclidean_adaptive_gtwr_for_test.append(predict)\n",
    "\n",
    "print('r2 score euclidean adaptive GTWR for test',r2_score(y_test, predictions_of_euclidean_adaptive_gtwr_for_test))"
   ]
  },
  {
   "cell_type": "markdown",
   "metadata": {},
   "source": [
    "Now we will train the method of geographically weighted regression with a fixed core and travel distance."
   ]
  },
  {
   "cell_type": "code",
   "execution_count": 27,
   "metadata": {},
   "outputs": [
    {
     "name": "stdout",
     "output_type": "stream",
     "text": [
      "r2 score travel fixed GWR for train 0.80433230071614\n"
     ]
    }
   ],
   "source": [
    "predictions_of_travel_fixed_gwr_for_train=[]\n",
    "geographic_bandwidth_for_travel_fixed_gwr=1600\n",
    "tmp_df=df_train_travel_distances.loc[:,~df_train_travel_distances.columns.duplicated()].copy()\n",
    "for k in range(0,len(x_train)):\n",
    "    current_coords=[round(lat_train[k][0],8),round(lon_train[k][0],8)]\n",
    "    train_x_of_cv=np.asarray(x_train[0:k].tolist()+x_train[k+1::].tolist())\n",
    "    train_y_of_cv=np.asarray(y_train[0:k].tolist()+y_train[k+1::].tolist())\n",
    "    train_lon_of_cv=np.asarray(lon_train[0:k].tolist()+lon_train[k+1::].tolist())\n",
    "    train_lat_of_cv=np.asarray(lat_train[0:k].tolist()+lat_train[k+1::].tolist())\n",
    "    n = len(train_x_of_cv)\n",
    "    weights=[]\n",
    "    for i in range(0,n):\n",
    "        st_1=str(round(current_coords[0],8))+','+str(round(current_coords[1],8))\n",
    "        nd_2=str(round(train_lat_of_cv[i][0],8))+','+str(round(train_lon_of_cv[i][0],8))\n",
    "        our_travel_distance=tmp_df[st_1][nd_2]\n",
    "        dis_geographic=our_travel_distance\n",
    "        if type(dis_geographic)!=np.float64:\n",
    "            dis_geographic=dis_geographic.tolist()[0]\n",
    "        weight_geographic=math.exp((-1)*(dis_geographic/geographic_bandwidth_for_travel_fixed_gwr))\n",
    "        weights.append(weight_geographic)\n",
    "    matrix=np.array(weights)\n",
    "    matrix=np.diag(matrix)\n",
    "    elem1=np.linalg.inv((train_x_of_cv.T).dot(matrix).dot(train_x_of_cv))\n",
    "    elem2=(train_x_of_cv.T).dot(matrix).dot(train_y_of_cv)\n",
    "    beta=(elem1).dot(elem2)\n",
    "    predict=beta.T.dot(np.array(x_train[k]).T)\n",
    "    predictions_of_travel_fixed_gwr_for_train.append(predict.tolist()[0])\n",
    "print('r2 score travel fixed GWR for train',r2_score(y_train, predictions_of_travel_fixed_gwr_for_train))"
   ]
  },
  {
   "cell_type": "markdown",
   "metadata": {},
   "source": [
    "Now we will evaluate the geographically weighted regression method with a fixed core and travel distance."
   ]
  },
  {
   "cell_type": "code",
   "execution_count": 28,
   "metadata": {},
   "outputs": [
    {
     "name": "stdout",
     "output_type": "stream",
     "text": [
      "r2 score travel fixed gwr for test 0.7382462405974608\n"
     ]
    }
   ],
   "source": [
    "predictions_of_travel_fixed_gwr_for_test=[]\n",
    "tmp_df=df_test_travel_distances.loc[:,~df_test_travel_distances.columns.duplicated()].copy()\n",
    "for k in range(0,len(x_test)):\n",
    "    current_coords=[lat_test[k][0],lon_test[k][0]]\n",
    "    n = len(x_train)\n",
    "    weights=[]\n",
    "    for i in range(0,n):\n",
    "        st_1=str(round(current_coords[0],8))+','+str(round(current_coords[1],8))\n",
    "        nd_2=str(round(lat_train[i][0],8))+','+str(round(lon_train[i][0],8))\n",
    "        try:\n",
    "            our_travel_distance=tmp_df[st_1][nd_2]\n",
    "        except:\n",
    "            our_travel_distance=tmp_df[nd_2][st_1]\n",
    "        dis_geographic=our_travel_distance\n",
    "        weight_geographic=math.exp((-1)*(dis_geographic/geographic_bandwidth_for_travel_fixed_gwr))\n",
    "        weights.append(weight_geographic)\n",
    "    matrix=np.array(weights)\n",
    "    matrix=np.diag(matrix)            \n",
    "    elem1=np.linalg.inv((x_train.T).dot(matrix).dot(x_train))\n",
    "    elem2=(x_train.T).dot(matrix).dot(y_train)\n",
    "    beta=(elem1).dot(elem2)\n",
    "    predict=beta.T.dot(np.array(x_test[k]).T)\n",
    "    predictions_of_travel_fixed_gwr_for_test.append(predict)\n",
    "\n",
    "print('r2 score travel fixed gwr for test',r2_score(y_test, predictions_of_travel_fixed_gwr_for_test))"
   ]
  },
  {
   "cell_type": "markdown",
   "metadata": {},
   "source": [
    "Now we will train the method of geographically weighted regression with a fixed core and travel distance."
   ]
  },
  {
   "cell_type": "code",
   "execution_count": 29,
   "metadata": {},
   "outputs": [
    {
     "name": "stdout",
     "output_type": "stream",
     "text": [
      "r2 score travel fixed gtwr for train 0.8103179248535195\n",
      "--- 2 minutes ---\n"
     ]
    }
   ],
   "source": [
    "import time\n",
    "start_time = time.time()\n",
    "predictions_of_travel_fixed_gtwr_for_train=[]\n",
    "geographic_bandwidth_for_travel_fixed_gwr=1600\n",
    "time_bandwidth_for_travel_fixed_gtwr=300\n",
    "tmp_df=df_train_travel_distances.loc[:,~df_train_travel_distances.columns.duplicated()].copy()\n",
    "for k in range(0,len(x_train)):\n",
    "    current_coords=[lat_train[k][0],lon_train[k][0]]\n",
    "    current_time=time_train[k]\n",
    "    train_x_of_cv=np.asarray(x_train[0:k].tolist()+x_train[k+1::].tolist())\n",
    "    train_y_of_cv=np.asarray(y_train[0:k].tolist()+y_train[k+1::].tolist())\n",
    "    train_lon_of_cv=np.asarray(lon_train[0:k].tolist()+lon_train[k+1::].tolist())\n",
    "    train_lat_of_cv=np.asarray(lat_train[0:k].tolist()+lat_train[k+1::].tolist())\n",
    "    train_times_of_cv=np.asarray(time_train[0:k].tolist()+time_train[k+1::].tolist())\n",
    "    n = len(train_x_of_cv)\n",
    "    weights=[]\n",
    "    for i in range(0,n):\n",
    "        st_1=str(round(current_coords[0],8))+','+str(round(current_coords[1],8))\n",
    "        nd_2=str(round(train_lat_of_cv[i][0],8))+','+str(round(train_lon_of_cv[i][0],8))\n",
    "        our_travel_distance=tmp_df[st_1][nd_2]\n",
    "        dis_geographic=our_travel_distance\n",
    "        if type(dis_geographic)!=np.float64:\n",
    "            dis_geographic=dis_geographic.tolist()[0]\n",
    "        weight_geographic=math.exp((-1)*(dis_geographic/geographic_bandwidth_for_travel_fixed_gwr))\n",
    "        dis_time=np.abs(current_time-train_times_of_cv[i])\n",
    "        weight_time=math.exp((-1)*(dis_time/time_bandwidth_for_travel_fixed_gtwr))\n",
    "        weight=weight_geographic*weight_time\n",
    "        weights.append(weight)\n",
    "    matrix=np.array(weights)\n",
    "    matrix=np.diag(matrix)\n",
    "    elem1=np.linalg.inv((train_x_of_cv.T).dot(matrix).dot(train_x_of_cv))\n",
    "    elem2=(train_x_of_cv.T).dot(matrix).dot(train_y_of_cv)\n",
    "    beta=(elem1).dot(elem2)\n",
    "    predict=beta.T.dot(np.array(x_train[k]).T)\n",
    "    predictions_of_travel_fixed_gtwr_for_train.append(predict.tolist()[0])\n",
    "print('r2 score travel fixed gtwr for train',r2_score(y_train, predictions_of_travel_fixed_gtwr_for_train))\n",
    "print(\"--- %s minutes ---\" % (round((time.time() - start_time)/60)))"
   ]
  },
  {
   "cell_type": "markdown",
   "metadata": {},
   "source": [
    "Now we will evaluate the method of geographically weighted regression with a fixed core and travel distance."
   ]
  },
  {
   "cell_type": "code",
   "execution_count": 30,
   "metadata": {},
   "outputs": [
    {
     "name": "stdout",
     "output_type": "stream",
     "text": [
      "r2 score travel fixed gtwr for test 0.7322129101518461\n"
     ]
    }
   ],
   "source": [
    "predictions_of_travel_fixed_gtwr_for_test=[]\n",
    "tmp_df=df_test_travel_distances.loc[:,~df_test_travel_distances.columns.duplicated()].copy()\n",
    "for k in range(0,len(x_test)):\n",
    "    current_coords=[lat_test[k][0],lon_test[k][0]]\n",
    "    current_time=time_test[k]\n",
    "    n = len(x_train)\n",
    "    weights=[]\n",
    "    for i in range(0,n):\n",
    "        st_1=str(round(current_coords[0],8))+','+str(round(current_coords[1],8))\n",
    "        nd_2=str(round(lat_train[i][0],8))+','+str(round(lon_train[i][0],8))\n",
    "        try:\n",
    "            our_travel_distance=tmp_df[st_1][nd_2]\n",
    "        except:\n",
    "            our_travel_distance=tmp_df[nd_2][st_1]\n",
    "        dis_geographic=our_travel_distance\n",
    "        weight_geographic=math.exp((-1)*(dis_geographic/geographic_bandwidth_for_travel_fixed_gwr))\n",
    "        dis_time=np.abs(current_time-time_train[i])\n",
    "        weight_time=math.exp((-1)*(dis_time/time_bandwidth_for_travel_fixed_gtwr))\n",
    "        weight=weight_geographic*weight_time\n",
    "        weights.append(weight)\n",
    "    matrix=np.array(weights)\n",
    "    matrix=np.diag(matrix)            \n",
    "    elem1=np.linalg.inv((x_train.T).dot(matrix).dot(x_train))\n",
    "    elem2=(x_train.T).dot(matrix).dot(y_train)\n",
    "    beta=(elem1).dot(elem2)\n",
    "    predict=beta.T.dot(np.array(x_test[k]).T)\n",
    "    predictions_of_travel_fixed_gtwr_for_test.append(predict)\n",
    "\n",
    "print('r2 score travel fixed gtwr for test',r2_score(y_test, predictions_of_travel_fixed_gtwr_for_test))"
   ]
  },
  {
   "cell_type": "markdown",
   "metadata": {},
   "source": [
    "Now we will train the method of geographically weighted regression with the adaptive core and travel distance."
   ]
  },
  {
   "cell_type": "code",
   "execution_count": 31,
   "metadata": {},
   "outputs": [
    {
     "name": "stdout",
     "output_type": "stream",
     "text": [
      "r2 score travel adaptive gwr for train 0.8014016649673854\n",
      "--- 2 minutes ---\n"
     ]
    }
   ],
   "source": [
    "import time\n",
    "start_time = time.time()\n",
    "predictions_of_travel_adaptive_gwr_for_train=[]\n",
    "n_neighbours_of_travel_adaptive_gwr_for_geographic=150\n",
    "tmp_df=df_train_travel_distances.loc[:,~df_train_travel_distances.columns.duplicated()].copy()\n",
    "for k in range(0,len(x_train)):\n",
    "    current_coords=[lat_train[k][0],lon_train[k][0]]\n",
    "    desired_index=str(round(current_coords[0],8))+','+str(round(current_coords[1],8))\n",
    "    current_geographic_distances=tmp_df[desired_index].values.tolist()\n",
    "    current_geographic_distances.sort()\n",
    "    neighbours=current_geographic_distances[1:n_neighbours_of_travel_adaptive_gwr_for_geographic+1]\n",
    "    geographic_bandwidth=neighbours[-1]\n",
    "    train_x_of_cv=np.asarray(x_train[0:k].tolist()+x_train[k+1::].tolist())\n",
    "    train_y_of_cv=np.asarray(y_train[0:k].tolist()+y_train[k+1::].tolist())\n",
    "    train_lon_of_cv=np.asarray(lon_train[0:k].tolist()+lon_train[k+1::].tolist())\n",
    "    train_lat_of_cv=np.asarray(lat_train[0:k].tolist()+lat_train[k+1::].tolist())\n",
    "    n = len(train_x_of_cv)\n",
    "    weights=[]\n",
    "    for i in range(0,n):                                                                           \n",
    "        st_1=str(round(current_coords[0],8))+','+str(round(current_coords[1],8))\n",
    "        nd_2=str(round(train_lat_of_cv[i][0],8))+','+str(round(train_lon_of_cv[i][0],8))\n",
    "        our_travel_distance=tmp_df[st_1][nd_2]\n",
    "        if type(our_travel_distance)!=np.float64:\n",
    "            our_travel_distance=our_travel_distance.values.tolist()[0]\n",
    "        dis_geographic=our_travel_distance\n",
    "        if dis_geographic<=geographic_bandwidth:\n",
    "            weight_geographic=(1-(dis_geographic/geographic_bandwidth)**2)**2\n",
    "        else:\n",
    "            weight_geographic=0\n",
    "        weights.append(weight_geographic)\n",
    "    matrix=np.array(weights)\n",
    "    matrix=np.diag(matrix)\n",
    "    elem1=np.linalg.inv((train_x_of_cv.T).dot(matrix).dot(train_x_of_cv))\n",
    "    elem2=(train_x_of_cv.T).dot(matrix).dot(train_y_of_cv)\n",
    "    beta=(elem1).dot(elem2)\n",
    "    predict=beta.T.dot(np.array(x_train[k]).T)\n",
    "    predictions_of_travel_adaptive_gwr_for_train.append(predict.tolist()[0])\n",
    "\n",
    "print('r2 score travel adaptive gwr for train',r2_score(y_train, predictions_of_travel_adaptive_gwr_for_train))\n",
    "print(\"--- %s minutes ---\" % (round((time.time() - start_time)/60)))"
   ]
  },
  {
   "cell_type": "markdown",
   "metadata": {},
   "source": [
    "Now, we will evaluate the geographically weighted regression method with the adaptive core and travel distance."
   ]
  },
  {
   "cell_type": "code",
   "execution_count": 32,
   "metadata": {},
   "outputs": [
    {
     "name": "stdout",
     "output_type": "stream",
     "text": [
      "r2 score travel adaptive gwr for test 0.7261230336039384\n"
     ]
    }
   ],
   "source": [
    "predictions_of_travel_adaptive_gwr_for_test=[]\n",
    "tmp_df=df_test_travel_distances.loc[:,~df_test_travel_distances.columns.duplicated()].copy()\n",
    "for k in range(0,len(x_test)):\n",
    "    current_coords=[lat_test[k][0],lon_test[k][0]]\n",
    "    desired_index=str(round(current_coords[0],8))+','+str(round(current_coords[1],8))\n",
    "    current_geographic_distances=tmp_df.loc[desired_index].values.tolist()\n",
    "    current_geographic_distances.sort()\n",
    "    neighbours=current_geographic_distances[0:n_neighbours_of_travel_adaptive_gwr_for_geographic]\n",
    "    geographic_bandwidth=neighbours[-1]\n",
    "    current_time=time_test[k]\n",
    "    n = len(x_train)\n",
    "    weights=[]\n",
    "    for i in range(0,n):\n",
    "        st_1=str(round(current_coords[0],8))+','+str(round(current_coords[1],8))\n",
    "        nd_2=str(round(lat_train[i][0],8))+','+str(round(lon_train[i][0],8))\n",
    "        try:\n",
    "            our_travel_distance=tmp_df[st_1][nd_2]\n",
    "        except:\n",
    "            our_travel_distance=tmp_df[nd_2][st_1]\n",
    "        dis_geographic=our_travel_distance\n",
    "        if dis_geographic<=geographic_bandwidth:\n",
    "            weight_geographic=(1-(dis_geographic/geographic_bandwidth)**2)**2\n",
    "        else:\n",
    "            weight_geographic=0\n",
    "        weights.append(weight_geographic)\n",
    "    matrix=np.array(weights)\n",
    "    matrix=np.diag(matrix)\n",
    "    elem1=np.linalg.inv((x_train.T).dot(matrix).dot(x_train))\n",
    "    elem2=(x_train.T).dot(matrix).dot(y_train)\n",
    "    beta=(elem1).dot(elem2)\n",
    "    predict=beta.T.dot(np.array(x_test[k]).T)\n",
    "    predictions_of_travel_adaptive_gwr_for_test.append(predict)\n",
    "\n",
    "print('r2 score travel adaptive gwr for test',r2_score(y_test, predictions_of_travel_adaptive_gwr_for_test))"
   ]
  },
  {
   "cell_type": "markdown",
   "metadata": {},
   "source": [
    "Now we will train the method of spatiotemporal weighted regression with the adaptive core and travel distance."
   ]
  },
  {
   "cell_type": "code",
   "execution_count": 33,
   "metadata": {},
   "outputs": [
    {
     "name": "stdout",
     "output_type": "stream",
     "text": [
      "r2 score travel adaptive gtwr for train 0.8055309472683079\n"
     ]
    }
   ],
   "source": [
    "predictions_of_travel_adaptive_gtwr_for_train=[]\n",
    "n_neighbours_of_travel_adaptive_gtwr_for_time=350\n",
    "tmp_df=df_train_travel_distances.loc[:,~df_train_travel_distances.columns.duplicated()].copy()\n",
    "for k in range(0,len(x_train)):\n",
    "    current_coords=[lat_train[k][0],lon_train[k][0]]\n",
    "    desired_index=str(round(current_coords[0],8))+','+str(round(current_coords[1],8))\n",
    "    current_geographic_distances=tmp_df[desired_index].values.tolist()\n",
    "    current_geographic_distances.sort()\n",
    "    neighbours=current_geographic_distances[1:n_neighbours_of_travel_adaptive_gwr_for_geographic+1]\n",
    "    geographic_bandwidth=neighbours[-1]\n",
    "    current_time=time_train[k][0]\n",
    "    desired_index_time=str(current_time)\n",
    "    current_time_distances=df_times_train.loc[desired_index_time].values.tolist()\n",
    "    if len(current_time_distances)!=699:\n",
    "        current_time_distances=list(set(df_times_train.loc[desired_index_time].values.tolist()[0]))\n",
    "    elif len(current_time_distances)==699:\n",
    "        current_time_distances=list(set(df_times_train.loc[desired_index_time].values.tolist()))\n",
    "    current_time_distances.sort()\n",
    "    neighbours_time=current_time_distances[1:n_neighbours_of_travel_adaptive_gtwr_for_time]\n",
    "    time_bandwidth=neighbours_time[-1]\n",
    "    train_x_of_cv=np.asarray(x_train[0:k].tolist()+x_train[k+1::].tolist())\n",
    "    train_y_of_cv=np.asarray(y_train[0:k].tolist()+y_train[k+1::].tolist())\n",
    "    train_lon_of_cv=np.asarray(lon_train[0:k].tolist()+lon_train[k+1::].tolist())\n",
    "    train_lat_of_cv=np.asarray(lat_train[0:k].tolist()+lat_train[k+1::].tolist())\n",
    "    train_times_of_cv=np.asarray(time_train[0:k].tolist()+time_train[k+1::].tolist())\n",
    "    n = len(train_x_of_cv)\n",
    "    weights=[]\n",
    "    for i in range(0,n):                                                                                              \n",
    "        st_1=str(round(current_coords[0],8))+','+str(round(current_coords[1],8))\n",
    "        nd_2=str(round(train_lat_of_cv[i][0],8))+','+str(round(train_lon_of_cv[i][0],8))\n",
    "        our_travel_distance=tmp_df[st_1][nd_2]                                        \n",
    "        dis_geographic=our_travel_distance\n",
    "        if type(dis_geographic)!=np.float64:\n",
    "            dis_geographic=dis_geographic.values.tolist()[0]\n",
    "        if dis_geographic<=geographic_bandwidth:\n",
    "            weight_geographic=(1-(dis_geographic/geographic_bandwidth)**2)**2\n",
    "        else:\n",
    "            weight_geographic=0\n",
    "        dis_time=np.abs(current_time-train_times_of_cv[i])[0]\n",
    "        if dis_time<=time_bandwidth:\n",
    "            weight_time=(1-(dis_time/time_bandwidth)**2)**2\n",
    "        else:\n",
    "            weight_time=0\n",
    "        weight=weight_geographic*weight_time\n",
    "        weights.append(weight)\n",
    "    matrix=np.array(weights)\n",
    "    matrix=np.diag(matrix)\n",
    "    elem1=np.linalg.inv((train_x_of_cv.T).dot(matrix).dot(train_x_of_cv))\n",
    "    elem2=(train_x_of_cv.T).dot(matrix).dot(train_y_of_cv)\n",
    "    beta=(elem1).dot(elem2)\n",
    "    predict=beta.T.dot(np.array(x_train[k]).T)\n",
    "    predictions_of_travel_adaptive_gtwr_for_train.append(predict.tolist()[0])\n",
    "\n",
    "print('r2 score travel adaptive gtwr for train',r2_score(y_train, predictions_of_travel_adaptive_gtwr_for_train))"
   ]
  },
  {
   "cell_type": "markdown",
   "metadata": {},
   "source": [
    "Now, we will evaluate the spatiotemporal weighted regression method with the adaptive core and travel distance."
   ]
  },
  {
   "cell_type": "code",
   "execution_count": 34,
   "metadata": {},
   "outputs": [
    {
     "name": "stdout",
     "output_type": "stream",
     "text": [
      "r2 score travel adaptive gtwr for test 0.708067955254079\n"
     ]
    }
   ],
   "source": [
    "predictions_of_travel_adaptive_gtwr_for_test=[]\n",
    "tmp_df=df_test_travel_distances.loc[:,~df_test_travel_distances.columns.duplicated()].copy()\n",
    "for k in range(0,len(x_test)):\n",
    "    current_coords=[lat_test[k][0],lon_test[k][0]]\n",
    "    desired_index=str(round(current_coords[0],8))+','+str(round(current_coords[1],8))\n",
    "    current_geographic_distances=tmp_df.loc[desired_index].values.tolist()\n",
    "    current_geographic_distances.sort()\n",
    "    neighbours=current_geographic_distances[0:n_neighbours_of_travel_adaptive_gwr_for_geographic]\n",
    "    geographic_bandwidth=neighbours[-1]\n",
    "    current_time=time_test[k][0]\n",
    "    desired_index_time=str(current_time)\n",
    "    current_time_distances=df_times_test.loc[desired_index_time].values.tolist()\n",
    "    if len(current_time_distances)!=699:\n",
    "        current_time_distances=list(set(df_times_test.loc[desired_index_time].values.tolist()[0]))\n",
    "    elif len(current_time_distances)==699:\n",
    "        current_time_distances=list(set(df_times_test.loc[desired_index_time].values.tolist()))\n",
    "    current_time_distances.sort()\n",
    "    neighbours_time=current_time_distances[0:n_neighbours_of_travel_adaptive_gtwr_for_time]\n",
    "    time_bandwidth=neighbours_time[-1]\n",
    "    n = len(x_train)\n",
    "    weights=[]\n",
    "    for i in range(0,n):\n",
    "        st_1=str(round(current_coords[0],8))+','+str(round(current_coords[1],8))\n",
    "        nd_2=str(round(lat_train[i][0],8))+','+str(round(lon_train[i][0],8))\n",
    "        try:\n",
    "            our_travel_distance=tmp_df[st_1][nd_2]\n",
    "        except:\n",
    "            our_travel_distance=tmp_df[nd_2][st_1]\n",
    "        dis_geographic=our_travel_distance                                      \n",
    "        if dis_geographic<=geographic_bandwidth:\n",
    "            weight_geographic=(1-(dis_geographic/geographic_bandwidth)**2)**2\n",
    "        else:\n",
    "            weight_geographic=0\n",
    "        dis_time=np.abs(current_time-time_train[i])[0]\n",
    "        if dis_time<=time_bandwidth:\n",
    "            weight_time=(1-(dis_time/time_bandwidth)**2)**2\n",
    "        else:\n",
    "            weight_time=0\n",
    "        weight=weight_geographic*weight_time\n",
    "        weights.append(weight)\n",
    "    matrix=np.array(weights)\n",
    "    matrix=np.diag(matrix)            \n",
    "    elem1=np.linalg.inv((x_train.T).dot(matrix).dot(x_train))\n",
    "    elem2=(x_train.T).dot(matrix).dot(y_train)\n",
    "    beta=(elem1).dot(elem2)\n",
    "    predict=beta.T.dot(np.array(x_test[k]).T)\n",
    "    predictions_of_travel_adaptive_gtwr_for_test.append(predict)\n",
    "\n",
    "print('r2 score travel adaptive gtwr for test',r2_score(y_test, predictions_of_travel_adaptive_gtwr_for_test))"
   ]
  },
  {
   "cell_type": "markdown",
   "metadata": {},
   "source": [
    "In the Generalized Neural Network regression method, the output of the prediction point is obtained from the y value of the training set using weighted averaging. These weights are obtained from the distance between the X value of the prediction point and the X value of the training set. For example, the distance between prediction point number one and training point number one is given as follows."
   ]
  },
  {
   "cell_type": "markdown",
   "metadata": {},
   "source": [
    "<img src='data:image/png;base64,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'>"
   ]
  },
  {
   "cell_type": "markdown",
   "metadata": {},
   "source": [
    "Since there are 8 independent variables in the data we are working with, so the 8 independent variables from prediction point 1 are subtracted from the 8 independent variables from practice point 1 and reach the power of 2 and are taken to the root."
   ]
  },
  {
   "cell_type": "markdown",
   "metadata": {},
   "source": [
    "You can see the architecture of this network."
   ]
  },
  {
   "cell_type": "markdown",
   "metadata": {},
   "source": [
    "<img src='data:image/png;base64,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'>"
   ]
  },
  {
   "cell_type": "markdown",
   "metadata": {},
   "source": [
    "The network architecture consists of 4 layers. Input layer, pattern layer, summation layer and output layer. The input layer is the same training points that are used to calculate the prediction point. Using the above formula, the pattern layer obtains the distance between the variables to calculate the weight y of each training point to participate in the calculation of the y predictor point."
   ]
  },
  {
   "cell_type": "markdown",
   "metadata": {},
   "source": [
    "The sum layer itself consists of two parts: the face and the denominator of the fraction. The fraction form consists of the sum of the y multiplication of each training point by its related weight, the weight of which is obtained from the following relation."
   ]
  },
  {
   "cell_type": "markdown",
   "metadata": {},
   "source": [
    "<img src='data:image/png;base64,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'>"
   ]
  },
  {
   "cell_type": "markdown",
   "metadata": {},
   "source": [
    "h\n",
    "in above relationships, is a characteristically bandwidth."
   ]
  },
  {
   "cell_type": "markdown",
   "metadata": {},
   "source": [
    "The denominator of the fraction includes the sum of the weights calculated from the previous step."
   ]
  },
  {
   "cell_type": "markdown",
   "metadata": {},
   "source": [
    "The output layer consists of calculating y of the prediction point, which is possible by dividing the numerator and the denominator of the fraction obtained from the previous step."
   ]
  },
  {
   "cell_type": "markdown",
   "metadata": {},
   "source": [
    "In this method, we have only one parameter, which is the characteristically bandwidth, which we obtain by using the cross-validation method and testing different values."
   ]
  },
  {
   "cell_type": "markdown",
   "metadata": {},
   "source": [
    "Among the advantages of this method, we can mention the following\n",
    "High speed of implementation of this method\n",
    "Unlike feed forward Neural Networks\n",
    "It always converges to the lowest global minimum and is never placed in the local minimum."
   ]
  },
  {
   "cell_type": "markdown",
   "metadata": {},
   "source": [
    "Let's look at an example."
   ]
  },
  {
   "cell_type": "markdown",
   "metadata": {},
   "source": [
    "input 2 4 6 8\n",
    "output 3 5 7 9\n",
    "  \n",
    "What will be the output of 5??\n",
    "\n",
    "Step 1\n",
    "Calculate distances d1 = (5-2)^2 = 9 , d2= (5-4)^2 = 1, d3 =(5-6)^2=1, d4 = (5-8)^2 = 9.\n",
    "\n",
    "Step 2\n",
    "Calculate weights using the above formula for fixed kernel:   e-(d ∕ h)\n",
    "Lets say h = 1.\n",
    "so weights are, \n",
    "w1 =  0.0001\n",
    "w2 =  0.3678\n",
    "w3=   0.3678\n",
    "w4=   0.0001\n",
    "\n",
    "Step 3\n",
    "\n",
    "Summation of  w's  W = w1+w2+w3+w4 =  0.7358\n",
    "So denominator is 0.7358.\n",
    "Now numerator is  YW = w1*y1 + w2*y2+w3*y3+ w4*y4\n",
    "                                    =0.0001*3+0.3678*5+0.3678*7+0.0001*9 \n",
    "                                    = 4.4148\n",
    "<br>\n",
    "Step 4\n",
    "\n",
    "So the output is: (Neumerator/Denominator )\n",
    "\n",
    "output = YW/W = 4.4148/0.7358 = 5.9999\n",
    "\n",
    "So predicted output is 5.9999."
   ]
  },
  {
   "cell_type": "markdown",
   "metadata": {},
   "source": [
    "This method is based on the theory of nonlinear regression and if there is a nonlinear relationship between the observations, it will be able to model it. Using this model, a linear or nonlinear regression level of independent and dependent variables can be formed."
   ]
  },
  {
   "cell_type": "markdown",
   "metadata": {},
   "source": [
    "Now let's train the fixed-core general neural network regression method."
   ]
  },
  {
   "cell_type": "code",
   "execution_count": 20,
   "metadata": {},
   "outputs": [
    {
     "name": "stdout",
     "output_type": "stream",
     "text": [
      "r2 score fixed grnn for train 0.689003888254891\n"
     ]
    }
   ],
   "source": [
    "predictions_of_fixed_grnn_for_train=[]\n",
    "bandwidth_for_fixed_grnn=0.06\n",
    "for k in range(0,len(x_train)):\n",
    "    current_coords=[x_coord_train[k][0],y_coord_train[k][0]]\n",
    "    current_time=time_train[k][0]\n",
    "    train_x_of_cv=np.asarray(x_train[0:k].tolist()+x_train[k+1::].tolist())\n",
    "    train_y_of_cv=np.asarray(y_train[0:k].tolist()+y_train[k+1::].tolist())\n",
    "    train_xcoords_of_cv=np.asarray(x_coord_train[0:k].tolist()+x_coord_train[k+1::].tolist())\n",
    "    train_ycoords_of_cv=np.asarray(y_coord_train[0:k].tolist()+y_coord_train[k+1::].tolist())\n",
    "    train_times_of_cv=np.asarray(time_train[0:k].tolist()+time_train[k+1::].tolist())\n",
    "    n = len(train_x_of_cv)\n",
    "    weights=[]\n",
    "    for i in range(0,n):\n",
    "        dis_feature=math.sqrt(sum((x_train[k]-train_x_of_cv[i])**2))\n",
    "        weight_feature=np.exp((-1) * (dis_feature/bandwidth_for_fixed_grnn))\n",
    "        weights.append(weight_feature)\n",
    "    numerator=0\n",
    "    denominator=0\n",
    "    for j in range(0,len(weights)):\n",
    "        numerator+=weights[j]*train_y_of_cv[j][0]\n",
    "        denominator+=weights[j]\n",
    "    predictions_of_fixed_grnn_for_train.append(numerator/denominator)\n",
    "\n",
    "print('r2 score fixed grnn for train',r2_score(y_train, predictions_of_fixed_grnn_for_train))"
   ]
  },
  {
   "cell_type": "markdown",
   "metadata": {},
   "source": [
    "Let's evaluate the fixed-core generic neural network regression method."
   ]
  },
  {
   "cell_type": "code",
   "execution_count": 36,
   "metadata": {},
   "outputs": [
    {
     "name": "stdout",
     "output_type": "stream",
     "text": [
      "r2 score fixed grnn for test 0.7288006227365025\n"
     ]
    }
   ],
   "source": [
    "predictions_of_fixed_grnn_for_test=[]\n",
    "for i in range(0,len(x_test)):\n",
    "    current_test=x_test[i]\n",
    "    informations=[]\n",
    "    for j in range(0,len(x_train)):\n",
    "        dis_features=math.sqrt(sum((x_test[i]-x_train[j])**2))\n",
    "        informations.append([dis_features,y_train[j]])\n",
    "    weights=[]\n",
    "    for k in range(0,len(informations)):\n",
    "        weight_features=np.exp(-1 * (informations[k][0]/bandwidth_for_fixed_grnn))\n",
    "        weights.append(weight_features)\n",
    "    numerator=0\n",
    "    denominator=0\n",
    "    for l in range(0,len(informations)):\n",
    "        numerator+=weights[l]*informations[l][1]\n",
    "        denominator+=weights[l]\n",
    "    predictions_of_fixed_grnn_for_test.append(numerator/denominator)\n",
    "\n",
    "print('r2 score fixed grnn for test',r2_score(y_test, predictions_of_fixed_grnn_for_test))"
   ]
  },
  {
   "cell_type": "markdown",
   "metadata": {},
   "source": [
    "Now we will train the regression method of the general neural network with the adaptive core."
   ]
  },
  {
   "cell_type": "code",
   "execution_count": 48,
   "metadata": {},
   "outputs": [
    {
     "name": "stdout",
     "output_type": "stream",
     "text": [
      "r2 score adaptive grnn for train 0.6949456828189112\n"
     ]
    }
   ],
   "source": [
    "predictions_of_adaptive_grnn_for_train=[]\n",
    "n_neighbours_of_adaptive_grnn=10\n",
    "for k in range(0,len(x_train)):\n",
    "    train_x_of_cv=np.asarray(x_train[0:k].tolist()+x_train[k+1::].tolist())\n",
    "    train_y_of_cv=np.asarray(y_train[0:k].tolist()+y_train[k+1::].tolist())\n",
    "    n = len(train_x_of_cv)\n",
    "    informations=[]\n",
    "    for i in range(0,n):\n",
    "        dis_feature=math.sqrt(sum((x_train[k]-train_x_of_cv[i])**2))\n",
    "        informations.append([dis_feature,train_y_of_cv[i][0]])\n",
    "    sorted_dis_features=[el[0] for el in informations]\n",
    "    sorted_dis_features.sort()\n",
    "    neighbours_features=sorted_dis_features[0:n_neighbours_of_adaptive_grnn]\n",
    "    bandwidth=neighbours_features[-1]\n",
    "    weights=[]\n",
    "    for j in range(0,n):\n",
    "        if informations[j][0]<=bandwidth:\n",
    "            weight_feature=(1-(informations[j][0]/bandwidth)**2)**2\n",
    "        else:\n",
    "            weight_feature=0\n",
    "        weights.append(weight_feature)\n",
    "    numerator=0\n",
    "    denominator=0\n",
    "    for l in range(0,len(weights)):\n",
    "        numerator+=weights[l]*informations[l][1]\n",
    "        denominator+=weights[l]\n",
    "    predictions_of_adaptive_grnn_for_train.append(numerator/denominator)\n",
    "\n",
    "print('r2 score adaptive grnn for train',r2_score(y_train, predictions_of_adaptive_grnn_for_train))"
   ]
  },
  {
   "cell_type": "markdown",
   "metadata": {},
   "source": [
    "Now we will evaluate the regression method of the general neural network with the adaptive core."
   ]
  },
  {
   "cell_type": "code",
   "execution_count": 38,
   "metadata": {},
   "outputs": [
    {
     "name": "stdout",
     "output_type": "stream",
     "text": [
      "r2 score adaptive grnn for test 0.7249448704519762\n"
     ]
    }
   ],
   "source": [
    "predictions_of_adaptive_grnn_for_test=[]\n",
    "for i in range(0,len(x_test)):\n",
    "    current_test=x_test[i]\n",
    "    informations=[]\n",
    "    for j in range(0,len(x_train)):\n",
    "        dis_features=math.sqrt(sum((x_test[i]-x_train[j])**2))\n",
    "        informations.append([dis_features,y_train[j]])\n",
    "    sorted_dis_features=[el[0] for el in informations]\n",
    "    sorted_dis_features.sort()\n",
    "    neighbours_features=sorted_dis_features[0:n_neighbours_of_adaptive_grnn]\n",
    "    bandwidth=neighbours_features[-1]\n",
    "    weights=[]\n",
    "    for k in range(0,len(informations)):\n",
    "        if informations[k][0]<= bandwidth:\n",
    "            weight_features=(1-(informations[k][0]/bandwidth)**2)**2\n",
    "        else:\n",
    "            weight_features=0\n",
    "        weights.append(weight_features)\n",
    "    numerator=0\n",
    "    denominator=0\n",
    "    for l in range(0,len(informations)):\n",
    "        numerator+=weights[l]*informations[l][1]\n",
    "        denominator+=weights[l]\n",
    "    predictions_of_adaptive_grnn_for_test.append(numerator/denominator)\n",
    "\n",
    "print('r2 score adaptive grnn for test',r2_score(y_test, predictions_of_adaptive_grnn_for_test))"
   ]
  },
  {
   "cell_type": "markdown",
   "metadata": {},
   "source": [
    "In 2020, Pai and Wang modeled housing prices in Taichung City using the General Regression Neural Network method. In this modeling, they used the geographical coordinates of the centers of each property as an independent variable in estimating the price of housing. In order to be able to model the spatial heterogeneity in housing price observations, it is necessary to use the geographical coordinates of parcel centers in the transition function and calculate the geographical distance between the training point and the prediction point in this function. Thus, the closer the geographical distance of the training point to the prediction point, the greater the effect on the value of y of the prediction point. Thus, the weight used in the generalized regression neural network model in each of the fixed and adaptive cores including two spatial and characteristic components that are shown in the table below."
   ]
  },
  {
   "cell_type": "markdown",
   "metadata": {},
   "source": [
    "<img src='data:image/png;base64,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'>"
   ]
  },
  {
   "cell_type": "markdown",
   "metadata": {},
   "source": [
    "In these relationships, dG and dC are the geographical distance and characteristic distance between the training point i and the prediction point j, hG is the spatial bandwidth, and finally hC is the characteristic bandwidth. In this case, the transition function used in the GCW-GRNN model introduced and developed in this study in each of the fixed and adaptive core is obtained from the product of two spatial and characteristic components."
   ]
  },
  {
   "cell_type": "markdown",
   "metadata": {},
   "source": [
    "Now we will train the  geographically and characteristically weighted generalized neural network regression with a fixed core and Euclidean distance."
   ]
  },
  {
   "cell_type": "code",
   "execution_count": 39,
   "metadata": {},
   "outputs": [
    {
     "name": "stdout",
     "output_type": "stream",
     "text": [
      "r2 score fixed gcw-grnn for train 0.7024847539812724\n"
     ]
    }
   ],
   "source": [
    "predictions_of_euclidean_fixed_gcw_grnn_for_train=[]\n",
    "geographic_bandwidth_for_euclidean_fixed_gcw_grnn=1500\n",
    "for k in range(0,len(x_train)):\n",
    "    current_coords=[x_coord_train[k][0],y_coord_train[k][0]]\n",
    "    train_x_of_cv=np.asarray(x_train[0:k].tolist()+x_train[k+1::].tolist())\n",
    "    train_y_of_cv=np.asarray(y_train[0:k].tolist()+y_train[k+1::].tolist())\n",
    "    train_xcoords_of_cv=np.asarray(x_coord_train[0:k].tolist()+x_coord_train[k+1::].tolist())\n",
    "    train_ycoords_of_cv=np.asarray(y_coord_train[0:k].tolist()+y_coord_train[k+1::].tolist())\n",
    "    n = len(train_x_of_cv)\n",
    "    weights=[]\n",
    "    for i in range(0,n):\n",
    "        dis_feature=math.sqrt(sum((x_train[k]-train_x_of_cv[i])**2))\n",
    "        weight_feature=np.exp((-1) * (dis_feature/bandwidth_for_fixed_grnn))\n",
    "        diff_geographic=[current_coords[0]-train_xcoords_of_cv[i][0],current_coords[1]-train_ycoords_of_cv[i][0]]\n",
    "        dis_geographic=math.sqrt(diff_geographic[0]**2+diff_geographic[1]**2)\n",
    "        weight_geographic=math.exp((-1)*(dis_geographic/geographic_bandwidth_for_euclidean_fixed_gcw_grnn))\n",
    "        weight=weight_feature*weight_geographic\n",
    "        weights.append(weight)\n",
    "    numerator=0\n",
    "    denominator=0\n",
    "    for l in range(0,len(weights)):\n",
    "        numerator+=weights[l]*train_y_of_cv[l][0]\n",
    "        denominator+=weights[l]\n",
    "    predictions_of_euclidean_fixed_gcw_grnn_for_train.append(numerator/denominator)\n",
    "\n",
    "print('r2 score fixed gcw-grnn for train',r2_score(y_train, predictions_of_euclidean_fixed_gcw_grnn_for_train))"
   ]
  },
  {
   "cell_type": "markdown",
   "metadata": {},
   "source": [
    "Now, we evaluate the  geographically and characteristically weighted generalized neural network regression with a fixed core and Euclidean distance."
   ]
  },
  {
   "cell_type": "code",
   "execution_count": 40,
   "metadata": {},
   "outputs": [
    {
     "name": "stdout",
     "output_type": "stream",
     "text": [
      "r2 score fixed gcw_grnn for test 0.7646487930385749\n"
     ]
    }
   ],
   "source": [
    "predictions_of_euclidean_fixed_gcw_grnn_for_test=[]\n",
    "for i in range(0,len(x_test)):\n",
    "    current_test=x_test[i]\n",
    "    informations=[]\n",
    "    for j in range(0,len(x_train)):\n",
    "        dis_features=math.sqrt(sum((x_test[i]-x_train[j])**2))\n",
    "        dis_coordinates=math.sqrt((x_coord_test[i][0]-x_coord_train[j][0])**2+\\\n",
    "                                  (y_coord_test[i][0]-y_coord_train[j][0])**2)\n",
    "        informations.append([dis_features,dis_coordinates,y_train[j]])\n",
    "    weights=[]\n",
    "    for k in range(0,len(informations)):\n",
    "        weight_features=np.exp(-1 * (informations[k][0]/bandwidth_for_fixed_grnn))\n",
    "        weight_coordinates=np.exp(-1 * (informations[k][1]/geographic_bandwidth_for_euclidean_fixed_gcw_grnn))\n",
    "        weights.append(weight_features*weight_coordinates)\n",
    "    numerator=0\n",
    "    denominator=0\n",
    "    for l in range(0,len(informations)):\n",
    "        numerator+=weights[l]*informations[l][2]\n",
    "        denominator+=weights[l]\n",
    "    predictions_of_euclidean_fixed_gcw_grnn_for_test.append(numerator/denominator)\n",
    "\n",
    "print('r2 score fixed gcw_grnn for test',r2_score(y_test, predictions_of_euclidean_fixed_gcw_grnn_for_test))"
   ]
  },
  {
   "cell_type": "markdown",
   "metadata": {},
   "source": [
    "In the problems of housing price modeling, in addition to spatial heterogeneity, there is also temporal heterogeneity, and it is necessary to consider the time component between the training point and the forecast point in the transition function. Therefore, it is necessary to consider the two dimensions of space and time simultaneously. The two dimensions of space and time, along with the characteristic dimension of the transition function used in the spatiotemporal Weighted Generalized Regression Neural Network Model."
   ]
  },
  {
   "cell_type": "markdown",
   "metadata": {},
   "source": [
    "<img src='data:image/png;base64,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'>"
   ]
  },
  {
   "cell_type": "markdown",
   "metadata": {},
   "source": [
    "In these relationships, dT represents the time interval between the training point and the prediction point and the time bandwidth hT. In this case, the transition function used in the GTCW-GRNN model is obtained from the product of three spatial, temporal, and characteristical components."
   ]
  },
  {
   "cell_type": "markdown",
   "metadata": {},
   "source": [
    "Now we will train the  geographically, temporally and characteristically weighted generalized neural network with a fixed core and Euclidean distance."
   ]
  },
  {
   "cell_type": "code",
   "execution_count": 41,
   "metadata": {},
   "outputs": [
    {
     "name": "stdout",
     "output_type": "stream",
     "text": [
      "r2 score fixed gtcw_grnn for train 0.718195711908335\n"
     ]
    }
   ],
   "source": [
    "predictions_of_euclidean_fixed_gtcw_grnn_for_train=[]\n",
    "time_bandwidth_for_euclidean_fixed_gtcw_grnn=200\n",
    "for k in range(0,len(x_train)):\n",
    "    current_coords=[x_coord_train[k][0],y_coord_train[k][0]]\n",
    "    current_time=time_train[k]\n",
    "    train_x_of_cv=np.asarray(x_train[0:k].tolist()+x_train[k+1::].tolist())\n",
    "    train_y_of_cv=np.asarray(y_train[0:k].tolist()+y_train[k+1::].tolist())\n",
    "    train_xcoords_of_cv=np.asarray(x_coord_train[0:k].tolist()+x_coord_train[k+1::].tolist())\n",
    "    train_ycoords_of_cv=np.asarray(y_coord_train[0:k].tolist()+y_coord_train[k+1::].tolist())\n",
    "    train_times_of_cv=np.asarray(time_train[0:k].tolist()+time_train[k+1::].tolist())\n",
    "    n = len(train_x_of_cv)\n",
    "    weights=[]\n",
    "    for i in range(0,n):\n",
    "        dis_feature=math.sqrt(sum((x_train[k]-train_x_of_cv[i])**2))\n",
    "        weight_feature=np.exp((-1) * (dis_feature/bandwidth_for_fixed_grnn))\n",
    "        diff_geographic=[current_coords[0]-train_xcoords_of_cv[i][0],current_coords[1]-train_ycoords_of_cv[i][0]]\n",
    "        dis_geographic=math.sqrt(diff_geographic[0]**2+diff_geographic[1]**2)\n",
    "        weight_geographic=math.exp((-1)*(dis_geographic/geographic_bandwidth_for_euclidean_fixed_gcw_grnn))\n",
    "        dis_time=np.abs(current_time-train_times_of_cv[i])\n",
    "        weight_time=math.exp((-1)*(dis_time/time_bandwidth_for_euclidean_fixed_gtcw_grnn))\n",
    "        weight=weight_feature*weight_geographic*weight_time\n",
    "        weights.append(weight)\n",
    "    numerator=0\n",
    "    denominator=0\n",
    "    for l in range(0,len(weights)):\n",
    "        numerator+=weights[l]*train_y_of_cv[l][0]\n",
    "        denominator+=weights[l]\n",
    "    predictions_of_euclidean_fixed_gtcw_grnn_for_train.append(numerator/denominator)\n",
    "\n",
    "print('r2 score fixed gtcw_grnn for train',r2_score(y_train, predictions_of_euclidean_fixed_gtcw_grnn_for_train))"
   ]
  },
  {
   "cell_type": "markdown",
   "metadata": {},
   "source": [
    "Now we will train the  geographically, temporally and characteristically weighted generalized neural network with a fixed core and Euclidean distance."
   ]
  },
  {
   "cell_type": "code",
   "execution_count": 42,
   "metadata": {},
   "outputs": [
    {
     "name": "stdout",
     "output_type": "stream",
     "text": [
      "r2 score euclidean fixed gtcw_grnn for test 0.7638871097111397\n"
     ]
    }
   ],
   "source": [
    "predictions_of_euclidean_fixed_gtcw_grnn_for_test=[]\n",
    "for i in range(0,len(x_test)):\n",
    "    current_test=x_test[i]\n",
    "    informations=[]\n",
    "    for j in range(0,len(x_train)):\n",
    "        dis_features=math.sqrt(sum((x_test[i]-x_train[j])**2))\n",
    "        dis_coordinates=math.sqrt((x_coord_test[i][0]-x_coord_train[j][0])**2+\\\n",
    "                                  (y_coord_test[i][0]-y_coord_train[j][0])**2)\n",
    "        dis_times=math.sqrt((time_test[i][0]-time_train[j][0])**2)\n",
    "        informations.append([dis_features,dis_coordinates,dis_times,y_train[j]])\n",
    "    weights=[]\n",
    "    for k in range(0,len(informations)):\n",
    "        weight_features=np.exp(-1 * (informations[k][0]/bandwidth_for_fixed_grnn))\n",
    "        weight_coordinates=np.exp(-1 * (informations[k][1]/geographic_bandwidth_for_euclidean_fixed_gcw_grnn))\n",
    "        weight_times=np.exp(-1 * (informations[k][2]/time_bandwidth_for_euclidean_fixed_gtcw_grnn))\n",
    "        weights.append(weight_features*weight_coordinates*weight_times)\n",
    "    numerator=0\n",
    "    denominator=0\n",
    "    for l in range(0,len(informations)):\n",
    "        numerator+=weights[l]*informations[l][3]\n",
    "        denominator+=weights[l]\n",
    "    predictions_of_euclidean_fixed_gtcw_grnn_for_test.append(numerator/denominator)\n",
    "\n",
    "print('r2 score euclidean fixed gtcw_grnn for test',r2_score(y_test, predictions_of_euclidean_fixed_gtcw_grnn_for_test))"
   ]
  },
  {
   "cell_type": "markdown",
   "metadata": {},
   "source": [
    "Now we will train the  geographically, temporally and characteristically weighted generalized neural network with an adaptive core and Euclidean distance."
   ]
  },
  {
   "cell_type": "code",
   "execution_count": 21,
   "metadata": {},
   "outputs": [
    {
     "name": "stdout",
     "output_type": "stream",
     "text": [
      "r2 score euclidean adaptive gcw_grnn for train 0.6856394351216444\n"
     ]
    }
   ],
   "source": [
    "predictions_of_euclidean_adaptive_gcw_grnn_for_train=[]\n",
    "n_neighbours_of_euclidean_adaptive_gcw_grnn_for_geographic=699\n",
    "for k in range(0,len(x_train)):\n",
    "    current_coords=[x_coord_train[k][0],y_coord_train[k][0]]\n",
    "    current_time=time_train[k]\n",
    "    train_x_of_cv=np.asarray(x_train[0:k].tolist()+x_train[k+1::].tolist())\n",
    "    train_y_of_cv=np.asarray(y_train[0:k].tolist()+y_train[k+1::].tolist())\n",
    "    train_xcoords_of_cv=np.asarray(x_coord_train[0:k].tolist()+x_coord_train[k+1::].tolist())\n",
    "    train_ycoords_of_cv=np.asarray(y_coord_train[0:k].tolist()+y_coord_train[k+1::].tolist())\n",
    "    train_times_of_cv=np.asarray(time_train[0:k].tolist()+time_train[k+1::].tolist())\n",
    "    n = len(train_x_of_cv)\n",
    "    informations=[]\n",
    "    for i in range(0,n):\n",
    "        dis_feature=math.sqrt(sum((x_train[k]-train_x_of_cv[i])**2))\n",
    "        diff_geographic=[current_coords[0]-train_xcoords_of_cv[i][0],current_coords[1]-train_ycoords_of_cv[i][0]]\n",
    "        dis_geographic=math.sqrt(diff_geographic[0]**2+diff_geographic[1]**2)\n",
    "        informations.append([dis_feature,dis_geographic,train_y_of_cv[i][0]])\n",
    "    sorted_dis_features=[el[0] for el in informations]\n",
    "    sorted_dis_features.sort()\n",
    "    neighbours_features=sorted_dis_features[0:n_neighbours_of_adaptive_grnn]\n",
    "    bandwidth=neighbours_features[-1]\n",
    "    sorted_dis_coordinates=[el[1] for el in informations]\n",
    "    sorted_dis_coordinates.sort()\n",
    "    neighbours_coordinates=sorted_dis_coordinates[0:n_neighbours_of_euclidean_adaptive_gcw_grnn_for_geographic]\n",
    "    geographic_bandwidth=neighbours_coordinates[-1]\n",
    "    weights=[]\n",
    "    for j in range(0,len(informations)):\n",
    "        if informations[j][0]<= bandwidth:\n",
    "            weight_feature=(1-(informations[j][0]/bandwidth)**2)**2\n",
    "        else:\n",
    "            weight_feature=0\n",
    "        if informations[j][1]<= geographic_bandwidth:\n",
    "            weight_geographic=(1-(informations[j][1]/geographic_bandwidth)**2)**2\n",
    "        else:\n",
    "            weight_geographic=0\n",
    "        weight=weight_feature*weight_geographic\n",
    "        weights.append(weight)\n",
    "    numerator=0\n",
    "    denominator=0\n",
    "    for l in range(0,len(informations)):\n",
    "        numerator+=weights[l]*informations[l][2]\n",
    "        denominator+=weights[l]\n",
    "    predictions_of_euclidean_adaptive_gcw_grnn_for_train.append(numerator/denominator)\n",
    "\n",
    "print('r2 score euclidean adaptive gcw_grnn for train',r2_score(y_train, predictions_of_euclidean_adaptive_gcw_grnn_for_train))"
   ]
  },
  {
   "cell_type": "markdown",
   "metadata": {},
   "source": [
    "Now, we evaluate the  geographically, temporally and characteristically weighted generalized neural network with an adaptive core and Euclidean distance."
   ]
  },
  {
   "cell_type": "code",
   "execution_count": 44,
   "metadata": {},
   "outputs": [
    {
     "name": "stdout",
     "output_type": "stream",
     "text": [
      "r2 score euclidean adaptive gcw_grnn for test 0.7220536326592734\n"
     ]
    }
   ],
   "source": [
    "predictions_of_euclidean_adaptive_gcw_grnn_for_test=[]\n",
    "for i in range(0,len(x_test)):\n",
    "    current_test=x_test[i]\n",
    "    informations=[]\n",
    "    for j in range(0,len(x_train)):\n",
    "        dis_features=math.sqrt(sum((x_test[i]-x_train[j])**2))\n",
    "        dis_coordinates=math.sqrt((x_coord_test[i][0]-x_coord_train[j][0])**2+\\\n",
    "                                  (y_coord_test[i][0]-y_coord_train[j][0])**2)\n",
    "        informations.append([dis_features,dis_coordinates,y_train[j]])\n",
    "    sorted_dis_features=[el[0] for el in informations]\n",
    "    sorted_dis_features.sort()\n",
    "    neighbours_features=sorted_dis_features[0:n_neighbours_of_adaptive_grnn]\n",
    "    bandwidth=neighbours_features[-1]\n",
    "    sorted_dis_coordinates=[el[1] for el in informations]\n",
    "    sorted_dis_coordinates.sort()\n",
    "    neighbours_coordinates=sorted_dis_coordinates[0:n_neighbours_of_euclidean_adaptive_gcw_grnn_for_geographic]\n",
    "    geographic_bandwidth=neighbours_coordinates[-1]\n",
    "    weights=[]\n",
    "    for k in range(0,len(informations)):\n",
    "        if informations[k][0]<= bandwidth:\n",
    "            weight_features=(1-(informations[k][0]/bandwidth)**2)**2\n",
    "        else:\n",
    "            weight_features=0\n",
    "        if informations[k][1]<= geographic_bandwidth:\n",
    "            weight_coordinates=(1-(informations[k][1]/geographic_bandwidth)**2)**2\n",
    "        else:\n",
    "            weight_coordinates=0\n",
    "        weights.append(weight_features*weight_coordinates)\n",
    "    numerator=0\n",
    "    denominator=0\n",
    "    for l in range(0,len(informations)):\n",
    "        numerator+=weights[l]*informations[l][2]\n",
    "        denominator+=weights[l]\n",
    "    predictions_of_euclidean_adaptive_gcw_grnn_for_test.append(numerator/denominator)\n",
    "\n",
    "print('r2 score euclidean adaptive gcw_grnn for test',r2_score(y_test, predictions_of_euclidean_adaptive_gcw_grnn_for_test))"
   ]
  },
  {
   "cell_type": "markdown",
   "metadata": {},
   "source": [
    "Now, we will train the  geographically, temporally and characteristically weighted generalized neural network with an adaptive core and Euclidean distance."
   ]
  },
  {
   "cell_type": "code",
   "execution_count": 45,
   "metadata": {},
   "outputs": [
    {
     "name": "stdout",
     "output_type": "stream",
     "text": [
      "r2 score euclidean adaptive gtcw_grnn for train 0.6968556342571498\n"
     ]
    }
   ],
   "source": [
    "predictions_of_euclidean_adaptive_gtcw_grnn_for_train=[]\n",
    "n_neighbours_of_euclidean_adaptive_gtcw_grnn_for_time=400\n",
    "for k in range(0,len(x_train)):\n",
    "    current_coords=[x_coord_train[k][0],y_coord_train[k][0]]\n",
    "    current_time=time_train[k]\n",
    "    train_x_of_cv=np.asarray(x_train[0:k].tolist()+x_train[k+1::].tolist())\n",
    "    train_y_of_cv=np.asarray(y_train[0:k].tolist()+y_train[k+1::].tolist())\n",
    "    train_xcoords_of_cv=np.asarray(x_coord_train[0:k].tolist()+x_coord_train[k+1::].tolist())\n",
    "    train_ycoords_of_cv=np.asarray(y_coord_train[0:k].tolist()+y_coord_train[k+1::].tolist())\n",
    "    train_times_of_cv=np.asarray(time_train[0:k].tolist()+time_train[k+1::].tolist())\n",
    "    n = len(train_x_of_cv)\n",
    "    informations=[]\n",
    "    for i in range(0,n):\n",
    "        dis_feature=math.sqrt(sum((x_train[k]-train_x_of_cv[i])**2))\n",
    "        diff_geographic=[current_coords[0]-train_xcoords_of_cv[i][0],current_coords[1]-train_ycoords_of_cv[i][0]]\n",
    "        dis_geographic=math.sqrt(diff_geographic[0]**2+diff_geographic[1]**2)\n",
    "        dis_time=np.abs(current_time-train_times_of_cv[i])[0]\n",
    "        informations.append([dis_feature,dis_geographic,dis_time,train_y_of_cv[i][0]])\n",
    "    sorted_dis_features=[el[0] for el in informations]\n",
    "    sorted_dis_features.sort()\n",
    "    neighbours_features=sorted_dis_features[0:n_neighbours_of_adaptive_grnn]\n",
    "    bandwidth=neighbours_features[-1]\n",
    "    sorted_dis_coordinates=[el[1] for el in informations]\n",
    "    sorted_dis_coordinates.sort()\n",
    "    neighbours_coordinates=sorted_dis_coordinates[0:n_neighbours_of_euclidean_adaptive_gcw_grnn_for_geographic]\n",
    "    geographic_bandwidth=neighbours_coordinates[-1]\n",
    "    sorted_dis_times=[el[2] for el in informations]\n",
    "    sorted_dis_times=list(set(sorted_dis_times))\n",
    "    sorted_dis_times=sorted(sorted_dis_times)\n",
    "    neighbours_times=sorted_dis_times[0:n_neighbours_of_euclidean_adaptive_gtcw_grnn_for_time]\n",
    "    time_bandwidth=neighbours_times[-1]\n",
    "    weights=[]\n",
    "    for j in range(0,len(informations)):\n",
    "        if informations[j][0]<= bandwidth:\n",
    "            weight_feature=(1-(informations[j][0]/bandwidth)**2)**2\n",
    "        else:\n",
    "            weight_feature=0\n",
    "        if informations[j][1]<= geographic_bandwidth:\n",
    "            weight_geographic=(1-(informations[j][1]/geographic_bandwidth)**2)**2\n",
    "        else:\n",
    "            weight_geographic=0\n",
    "        if informations[j][2]<= time_bandwidth:\n",
    "            weight_time=(1-(informations[j][2]/time_bandwidth)**2)**2\n",
    "        else:\n",
    "            weight_time=0\n",
    "        weight=weight_feature*weight_geographic*weight_time\n",
    "        weights.append(weight)\n",
    "    numerator=0\n",
    "    denominator=0\n",
    "    for l in range(0,len(informations)):\n",
    "        numerator+=weights[l]*informations[l][3]\n",
    "        denominator+=weights[l]\n",
    "    predictions_of_euclidean_adaptive_gtcw_grnn_for_train.append(numerator/denominator)\n",
    "\n",
    "print('r2 score euclidean adaptive gtcw_grnn for train',r2_score(y_train,\\\n",
    "                                                                 predictions_of_euclidean_adaptive_gtcw_grnn_for_train))"
   ]
  },
  {
   "cell_type": "markdown",
   "metadata": {},
   "source": [
    "Now, we evaluate the geographically, temporally and characteristically weighted generalized neural network with an adaptive core and Euclidean distance."
   ]
  },
  {
   "cell_type": "code",
   "execution_count": 46,
   "metadata": {},
   "outputs": [
    {
     "name": "stdout",
     "output_type": "stream",
     "text": [
      "r2 score euclidean adaptive gtcw_grnn for test 0.7124219398125772\n"
     ]
    }
   ],
   "source": [
    "predictions_of_euclidean_adaptive_gtcw_grnn_for_test=[]\n",
    "for i in range(0,len(x_test)):\n",
    "    current_test=x_test[i]\n",
    "    informations=[]\n",
    "    for j in range(0,len(x_train)):\n",
    "        dis_features=math.sqrt(sum((x_test[i]-x_train[j])**2))\n",
    "        dis_coordinates=math.sqrt((x_coord_test[i][0]-x_coord_train[j][0])**2+\\\n",
    "                                  (y_coord_test[i][0]-y_coord_train[j][0])**2)\n",
    "        dis_times=math.sqrt((time_test[i]-time_train[j])**2)\n",
    "        informations.append([dis_features,dis_coordinates,dis_times,y_train[j]])\n",
    "    sorted_dis_features=[el[0] for el in informations]\n",
    "    sorted_dis_features.sort()\n",
    "    neighbours_features=sorted_dis_features[0:n_neighbours_of_adaptive_grnn]\n",
    "    bandwidth=neighbours_features[-1]\n",
    "    sorted_dis_coordinates=[el[1] for el in informations]\n",
    "    sorted_dis_coordinates.sort()\n",
    "    neighbours_coordinates=sorted_dis_coordinates[0:n_neighbours_of_euclidean_adaptive_gcw_grnn_for_geographic]\n",
    "    geographic_bandwidth=neighbours_coordinates[-1]\n",
    "    sorted_dis_times=[el[2] for el in informations]\n",
    "    sorted_dis_times=list(set(sorted_dis_times))\n",
    "    sorted_dis_times=sorted(sorted_dis_times)\n",
    "    neighbours_times=sorted_dis_times[0:n_neighbours_of_euclidean_adaptive_gtcw_grnn_for_time]\n",
    "    time_bandwidth=neighbours_times[-1]\n",
    "    weights=[]\n",
    "    for k in range(0,len(informations)):\n",
    "        if informations[k][0]<= bandwidth:\n",
    "            weight_features=(1-(informations[k][0]/bandwidth)**2)**2\n",
    "        else:\n",
    "            weight_features=0\n",
    "        if informations[k][1]<= geographic_bandwidth:\n",
    "            weight_coordinates=(1-(informations[k][1]/geographic_bandwidth)**2)**2\n",
    "        else:\n",
    "            weight_coordinates=0\n",
    "        if informations[k][2]<= time_bandwidth:\n",
    "            weight_times=(1-(informations[k][2]/time_bandwidth)**2)**2\n",
    "        else:\n",
    "            weight_times=0\n",
    "        weights.append(weight_features*weight_coordinates*weight_times)\n",
    "    numerator=0\n",
    "    denominator=0\n",
    "    for l in range(0,len(informations)):\n",
    "        numerator+=weights[l]*informations[l][3]\n",
    "        denominator+=weights[l]\n",
    "    predictions_of_euclidean_adaptive_gtcw_grnn_for_test.append(numerator/denominator)\n",
    "\n",
    "print('r2 score euclidean adaptive gtcw_grnn for test',r2_score(y_test, predictions_of_euclidean_adaptive_gtcw_grnn_for_test))"
   ]
  },
  {
   "cell_type": "markdown",
   "metadata": {},
   "source": [
    "Now we will train the geographically, temporally and characteristically weighted generalized neural network with a fixed core and travel distance."
   ]
  },
  {
   "cell_type": "code",
   "execution_count": 33,
   "metadata": {},
   "outputs": [
    {
     "name": "stdout",
     "output_type": "stream",
     "text": [
      "r2 score travel fixed gcw_grnn 0.7077352784001383\n"
     ]
    }
   ],
   "source": [
    "predictions_of_travel_fixed_gcw_grnn_for_train=[]\n",
    "geographic_bandwidth_for_travel_fixed_gcw_grnn=3500\n",
    "tmp_df=df_train_travel_distances.loc[:,~df_train_travel_distances.columns.duplicated()].copy()\n",
    "for k in range(0,len(x_train)):\n",
    "    current_coords=[lat_train[k][0],lon_train[k][0]]\n",
    "    current_time=time_train[k]\n",
    "    train_x_of_cv=np.asarray(x_train[0:k].tolist()+x_train[k+1::].tolist())\n",
    "    train_y_of_cv=np.asarray(y_train[0:k].tolist()+y_train[k+1::].tolist())\n",
    "    train_lon_of_cv=np.asarray(lon_train[0:k].tolist()+lon_train[k+1::].tolist())\n",
    "    train_lat_of_cv=np.asarray(lat_train[0:k].tolist()+lat_train[k+1::].tolist())\n",
    "    n = len(train_x_of_cv)\n",
    "    weights=[]\n",
    "    for i in range(0,n):\n",
    "        st_1=str(round(current_coords[0],8))+','+str(round(current_coords[1],8))\n",
    "        nd_2=str(round(train_lat_of_cv[i][0],8))+','+str(round(train_lon_of_cv[i][0],8))\n",
    "        our_travel_distance=tmp_df[st_1][nd_2]\n",
    "        dis_geographic=our_travel_distance\n",
    "        if type(dis_geographic)!=np.float64:\n",
    "            dis_geographic=dis_geographic.values.tolist()[0]\n",
    "        weight_geographic=math.exp((-1)*(dis_geographic/geographic_bandwidth_for_travel_fixed_gcw_grnn))\n",
    "        dis_feature=math.sqrt(sum((x_train[k]-train_x_of_cv[i])**2))\n",
    "        weight_feature=np.exp((-1) * (dis_feature/bandwidth_for_fixed_grnn))\n",
    "        weight=weight_feature*weight_geographic\n",
    "        weights.append(weight)\n",
    "    numerator=0\n",
    "    denominator=0\n",
    "    for l in range(0,len(weights)):\n",
    "        numerator+=weights[l]*train_y_of_cv[l][0]\n",
    "        denominator+=weights[l]\n",
    "    predictions_of_travel_fixed_gcw_grnn_for_train.append(numerator/denominator)\n",
    "\n",
    "print('r2 score travel fixed gcw_grnn',r2_score(y_train, predictions_of_travel_fixed_gcw_grnn_for_train))"
   ]
  },
  {
   "cell_type": "markdown",
   "metadata": {},
   "source": [
    "Now, we evaluate the geographically, temporally and characteristically weighted generalized neural network with a fixed core and travel distance."
   ]
  },
  {
   "cell_type": "code",
   "execution_count": 35,
   "metadata": {},
   "outputs": [
    {
     "name": "stdout",
     "output_type": "stream",
     "text": [
      "r2 score travel fixed gcw_grnn for test 0.7538705764154074\n"
     ]
    }
   ],
   "source": [
    "predictions_of_travel_fixed_gcw_grnn_for_test=[]\n",
    "tmp_df=df_test_travel_distances.loc[:,~df_test_travel_distances.columns.duplicated()].copy()\n",
    "for i in range(0,len(x_test)):\n",
    "    current_test=x_test[i]\n",
    "    current_coords=[lat_test[i][0],lon_test[i][0]]\n",
    "    informations=[]\n",
    "    for j in range(0,len(x_train)):\n",
    "        dis_features=math.sqrt(sum((x_test[i]-x_train[j])**2))\n",
    "        st_1=str(round(current_coords[0],8))+','+str(round(current_coords[1],8))\n",
    "        nd_2=str(round(lat_train[j][0],8))+','+str(round(lon_train[j][0],8))\n",
    "        try:\n",
    "            our_travel_distance=tmp_df[st_1][nd_2]\n",
    "        except:\n",
    "            our_travel_distance=tmp_df[nd_2][st_1]\n",
    "        dis_coordinates=our_travel_distance\n",
    "        informations.append([dis_features,dis_coordinates,y_train[j]])\n",
    "    weights=[]\n",
    "    for k in range(0,len(informations)):\n",
    "        weight_features=np.exp(-1 * (informations[k][0]/bandwidth_for_fixed_grnn))\n",
    "        weight_coordinates=np.exp(-1 * (informations[k][1]/geographic_bandwidth_for_travel_fixed_gcw_grnn))\n",
    "        weights.append(weight_features*weight_coordinates)\n",
    "    numerator=0\n",
    "    denominator=0\n",
    "    for l in range(0,len(informations)):\n",
    "        numerator+=weights[l]*informations[l][2]\n",
    "        denominator+=weights[l]\n",
    "    predictions_of_travel_fixed_gcw_grnn_for_test.append(numerator/denominator)\n",
    "\n",
    "print('r2 score travel fixed gcw_grnn for test',r2_score(y_test, predictions_of_travel_fixed_gcw_grnn_for_test))"
   ]
  },
  {
   "cell_type": "markdown",
   "metadata": {},
   "source": [
    "Now we will train the geographically, temporally and characteristically weighted generalized neural network with a fixed core and travel distance."
   ]
  },
  {
   "cell_type": "code",
   "execution_count": 49,
   "metadata": {},
   "outputs": [
    {
     "name": "stdout",
     "output_type": "stream",
     "text": [
      "r2 score travel fixed gtcw_grnn for train 0.7273352702423348\n"
     ]
    }
   ],
   "source": [
    "predictions_of_travel_fixed_gtcw_grnn_for_train=[]\n",
    "time_bandwidth_for_travel_fixed_gtcw_grnn=200\n",
    "tmp_df=df_train_travel_distances.loc[:,~df_train_travel_distances.columns.duplicated()].copy()\n",
    "for k in range(0,len(x_train)):\n",
    "    current_coords=[lat_train[k][0],lon_train[k][0]]\n",
    "    current_time=time_train[k]\n",
    "    train_x_of_cv=np.asarray(x_train[0:k].tolist()+x_train[k+1::].tolist())\n",
    "    train_y_of_cv=np.asarray(y_train[0:k].tolist()+y_train[k+1::].tolist())\n",
    "    train_lon_of_cv=np.asarray(lon_train[0:k].tolist()+lon_train[k+1::].tolist())\n",
    "    train_lat_of_cv=np.asarray(lat_train[0:k].tolist()+lat_train[k+1::].tolist())\n",
    "    train_times_of_cv=np.asarray(time_train[0:k].tolist()+time_train[k+1::].tolist())\n",
    "    n = len(train_x_of_cv)\n",
    "    weights=[]\n",
    "    for i in range(0,n):\n",
    "        st_1=str(round(current_coords[0],8))+','+str(round(current_coords[1],8))\n",
    "        nd_2=str(round(train_lat_of_cv[i][0],8))+','+str(round(train_lon_of_cv[i][0],8))\n",
    "        our_travel_distance=tmp_df[st_1][nd_2]\n",
    "        dis_geographic=our_travel_distance\n",
    "        if type(dis_geographic)!=np.float64:\n",
    "            dis_geographic=dis_geographic.values.tolist()[0]\n",
    "        weight_geographic=math.exp((-1)*(dis_geographic/geographic_bandwidth_for_travel_fixed_gcw_grnn))\n",
    "        dis_time=np.abs(current_time-train_times_of_cv[i])\n",
    "        weight_time=math.exp((-1)*(dis_time/time_bandwidth_for_travel_fixed_gtcw_grnn))\n",
    "        dis_feature=math.sqrt(sum((x_train[k]-train_x_of_cv[i])**2))\n",
    "        weight_feature=np.exp((-1) * (dis_feature/bandwidth_for_fixed_grnn))\n",
    "        weight=weight_feature*weight_geographic*weight_time\n",
    "        weights.append(weight)\n",
    "    numerator=0\n",
    "    denominator=0\n",
    "    for l in range(0,len(weights)):\n",
    "        numerator+=weights[l]*train_y_of_cv[l][0]\n",
    "        denominator+=weights[l]\n",
    "    predictions_of_travel_fixed_gtcw_grnn_for_train.append(numerator/denominator)\n",
    "\n",
    "print('r2 score travel fixed gtcw_grnn for train',r2_score(y_train, predictions_of_travel_fixed_gtcw_grnn_for_train))"
   ]
  },
  {
   "cell_type": "markdown",
   "metadata": {},
   "source": [
    "Now, we evaluate the geographically, temporally and characteristically weighted generalized neural network with a fixed core and travel distance."
   ]
  },
  {
   "cell_type": "code",
   "execution_count": 51,
   "metadata": {},
   "outputs": [
    {
     "name": "stdout",
     "output_type": "stream",
     "text": [
      "r2 score travel fixed gtcw_grnn for test 0.7533689322423212\n"
     ]
    }
   ],
   "source": [
    "predictions_of_travel_fixed_gtcw_grnn_for_test=[]\n",
    "tmp_df=df_test_travel_distances.loc[:,~df_test_travel_distances.columns.duplicated()].copy()\n",
    "for i in range(0,len(x_test)):\n",
    "    current_test=x_test[i]\n",
    "    current_coords=[lat_test[i][0],lon_test[i][0]]                                            \n",
    "    informations=[]\n",
    "    for j in range(0,len(x_train)):\n",
    "        dis_features=math.sqrt(sum((x_test[i]-x_train[j])**2))\n",
    "        st_1=str(round(current_coords[0],8))+','+str(round(current_coords[1],8))\n",
    "        nd_2=str(round(lat_train[j][0],8))+','+str(round(lon_train[j][0],8))\n",
    "        try:\n",
    "            our_travel_distance=tmp_df[st_1][nd_2]\n",
    "        except:\n",
    "            our_travel_distance=tmp_df[nd_2][st_1]\n",
    "        dis_coordinates=our_travel_distance\n",
    "        dis_times=math.sqrt((time_test[i][0]-time_train[j][0])**2)\n",
    "        informations.append([dis_features,dis_coordinates,dis_times,y_train[j]])\n",
    "    weights=[]\n",
    "    for k in range(0,len(informations)):\n",
    "        weight_features=np.exp(-1 * (informations[k][0]/bandwidth_for_fixed_grnn))\n",
    "        weight_coordinates=np.exp(-1 * (informations[k][1]/geographic_bandwidth_for_travel_fixed_gcw_grnn))\n",
    "        weight_times=np.exp(-1 * (informations[k][2]/time_bandwidth_for_travel_fixed_gtcw_grnn))\n",
    "        weights.append(weight_features*weight_coordinates*weight_times)\n",
    "    numerator=0\n",
    "    denominator=0\n",
    "    for l in range(0,len(informations)):\n",
    "        numerator+=weights[l]*informations[l][3]\n",
    "        denominator+=weights[l]\n",
    "    predictions_of_travel_fixed_gtcw_grnn_for_test.append(numerator/denominator)\n",
    "\n",
    "print('r2 score travel fixed gtcw_grnn for test',r2_score(y_test, predictions_of_travel_fixed_gtcw_grnn_for_test))"
   ]
  },
  {
   "cell_type": "markdown",
   "metadata": {},
   "source": [
    "Now, we will train the geographically, temporally and characteristically weighted generalized neural network with an adaptive core and travel distance."
   ]
  },
  {
   "cell_type": "code",
   "execution_count": 49,
   "metadata": {},
   "outputs": [
    {
     "name": "stdout",
     "output_type": "stream",
     "text": [
      "r2 score travel adaptive gcw_grnn for train 0.6894580130607885\n"
     ]
    }
   ],
   "source": [
    "predictions_of_travel_adaptive_gcw_grnn_for_train=[]\n",
    "n_neighbours_of_travel_adaptive_gcw_grnn_for_geographic=699\n",
    "tmp_df=df_train_travel_distances.loc[:,~df_train_travel_distances.columns.duplicated()].copy()\n",
    "for k in range(0,len(x_train)):\n",
    "    current_coords=[lat_train[k][0],lon_train[k][0]]\n",
    "    train_x_of_cv=np.asarray(x_train[0:k].tolist()+x_train[k+1::].tolist())\n",
    "    train_y_of_cv=np.asarray(y_train[0:k].tolist()+y_train[k+1::].tolist())\n",
    "    train_lon_of_cv=np.asarray(lon_train[0:k].tolist()+lon_train[k+1::].tolist())\n",
    "    train_lat_of_cv=np.asarray(lat_train[0:k].tolist()+lat_train[k+1::].tolist())\n",
    "    n = len(train_x_of_cv)\n",
    "    informations=[]\n",
    "    for i in range(0,n):\n",
    "        st_1=str(round(current_coords[0],8))+','+str(round(current_coords[1],8))\n",
    "        nd_2=str(round(train_lat_of_cv[i][0],8))+','+str(round(train_lon_of_cv[i][0],8))\n",
    "        our_travel_distance=tmp_df[st_1][nd_2]\n",
    "        dis_geographic=our_travel_distance\n",
    "        if type(dis_geographic)!=np.float64:\n",
    "            dis_geographic=dis_geographic.values.tolist()[0]\n",
    "        dis_feature=math.sqrt(sum((x_train[k]-train_x_of_cv[i])**2))\n",
    "        informations.append([dis_feature,dis_geographic,train_y_of_cv[i][0]])\n",
    "    sorted_dis_features=[el[0] for el in informations]\n",
    "    sorted_dis_features.sort()\n",
    "    neighbours_features=sorted_dis_features[0:n_neighbours_of_adaptive_grnn]\n",
    "    bandwidth=neighbours_features[-1]\n",
    "    sorted_dis_coordinates=[el[1] for el in informations]\n",
    "    sorted_dis_coordinates.sort()\n",
    "    neighbours_coordinates=sorted_dis_coordinates[0:n_neighbours_of_travel_adaptive_gcw_grnn_for_geographic]\n",
    "    geographic_bandwidth=neighbours_coordinates[-1]\n",
    "    weights=[]\n",
    "    for j in range(0,len(informations)):\n",
    "        if informations[j][0]<= bandwidth:\n",
    "            weight_feature=(1-(informations[j][0]/bandwidth)**2)**2\n",
    "        else:\n",
    "            weight_feature=0\n",
    "        if informations[j][1]<= geographic_bandwidth:\n",
    "            weight_geographic=(1-(informations[j][1]/geographic_bandwidth)**2)**2\n",
    "        else:\n",
    "            weight_geographic=0\n",
    "        weight=weight_feature*weight_geographic\n",
    "        weights.append(weight)\n",
    "    numerator=0\n",
    "    denominator=0\n",
    "    for l in range(0,len(informations)):\n",
    "        numerator+=weights[l]*informations[l][2]\n",
    "        denominator+=weights[l]\n",
    "    predictions_of_travel_adaptive_gcw_grnn_for_train.append(numerator/denominator)\n",
    "\n",
    "print('r2 score travel adaptive gcw_grnn for train',r2_score(y_train, predictions_of_travel_adaptive_gcw_grnn_for_train))"
   ]
  },
  {
   "cell_type": "markdown",
   "metadata": {},
   "source": [
    "Now, we evaluate the geographically, temporally and characteristically weighted generalized neural network with an adaptive core and travel distance."
   ]
  },
  {
   "cell_type": "code",
   "execution_count": 27,
   "metadata": {},
   "outputs": [
    {
     "name": "stdout",
     "output_type": "stream",
     "text": [
      "r2 score travel adaptive gcw_grnn for test 0.7237485609693354\n"
     ]
    }
   ],
   "source": [
    "predictions_of_travel_adaptive_gcw_grnn_for_test=[]\n",
    "tmp_df=df_test_travel_distances.loc[:,~df_test_travel_distances.columns.duplicated()].copy()\n",
    "for i in range(0,len(x_test)):\n",
    "    current_test=x_test[i]\n",
    "    current_coords=[lat_test[i][0],lon_test[i][0]]\n",
    "    informations=[]\n",
    "    for j in range(0,len(x_train)):\n",
    "        dis_features=math.sqrt(sum((x_test[i]-x_train[j])**2))\n",
    "        st_1=str(round(current_coords[0],8))+','+str(round(current_coords[1],8))\n",
    "        nd_2=str(round(lat_train[j][0],8))+','+str(round(lon_train[j][0],8))\n",
    "        try:\n",
    "            our_travel_distance=tmp_df[st_1][nd_2]\n",
    "        except:\n",
    "            our_travel_distance=tmp_df[nd_2][st_1]\n",
    "        dis_coordinates=our_travel_distance\n",
    "        informations.append([dis_features,dis_coordinates,y_train[j]])\n",
    "    sorted_dis_features=[el[0] for el in informations]\n",
    "    sorted_dis_features.sort()\n",
    "    neighbours_features=sorted_dis_features[0:n_neighbours_of_adaptive_grnn]\n",
    "    bandwidth=neighbours_features[-1]\n",
    "    sorted_dis_coordinates=[el[1] for el in informations]\n",
    "    sorted_dis_coordinates.sort()\n",
    "    neighbours_coordinates=sorted_dis_coordinates[0:n_neighbours_of_travel_adaptive_gcw_grnn_for_geographic]\n",
    "    geographic_bandwidth=neighbours_coordinates[-1]\n",
    "    weights=[]\n",
    "    for k in range(0,len(informations)):\n",
    "        if informations[k][0]<= bandwidth:\n",
    "            weight_features=(1-(informations[k][0]/bandwidth)**2)**2\n",
    "        else:\n",
    "            weight_features=0\n",
    "        if informations[k][1]<= geographic_bandwidth:\n",
    "            weight_coordinates=(1-(informations[k][1]/geographic_bandwidth)**2)**2\n",
    "        else:\n",
    "            weight_coordinates=0\n",
    "        weights.append(weight_features*weight_coordinates)\n",
    "    numerator=0\n",
    "    denominator=0\n",
    "    for l in range(0,len(informations)):\n",
    "        numerator+=weights[l]*informations[l][2]\n",
    "        denominator+=weights[l]\n",
    "    predictions_of_travel_adaptive_gcw_grnn_for_test.append(numerator/denominator)\n",
    "\n",
    "print('r2 score travel adaptive gcw_grnn for test',r2_score(y_test, predictions_of_travel_adaptive_gcw_grnn_for_test))"
   ]
  },
  {
   "cell_type": "markdown",
   "metadata": {},
   "source": [
    "Now, we will train the geographically, temporally and characteristically weighted generalized neural network with an adaptive core and travel distance."
   ]
  },
  {
   "cell_type": "code",
   "execution_count": 51,
   "metadata": {},
   "outputs": [
    {
     "name": "stdout",
     "output_type": "stream",
     "text": [
      "r2 score travel adaptive gtcw_grnn for train 0.7008722535904316\n"
     ]
    }
   ],
   "source": [
    "n_neighbours_of_travel_adaptive_gtcw_grnn_for_time=400\n",
    "predictions_of_travel_adaptive_gtcw_grnn_for_train=[]\n",
    "tmp_df=df_train_travel_distances.loc[:,~df_train_travel_distances.columns.duplicated()].copy()\n",
    "for k in range(0,len(x_train)):\n",
    "    current_coords=[lat_train[k][0],lon_train[k][0]]\n",
    "    current_time=time_train[k][0]\n",
    "    desired_index_time=str(current_time)\n",
    "    current_time_distances=df_times_train.loc[desired_index_time].values.tolist()\n",
    "    if len(current_time_distances)!=699:\n",
    "        current_time_distances=list(set(df_times_train.loc[desired_index_time].values.tolist()[0]))\n",
    "    elif len(current_time_distances)==699:\n",
    "        current_time_distances=list(set(df_times_train.loc[desired_index_time].values.tolist()))\n",
    "    current_time_distances.sort()\n",
    "    neighbours_time=current_time_distances[1:n_neighbours_of_travel_adaptive_gtcw_grnn_for_time]\n",
    "    time_bandwidth=neighbours_time[-1]\n",
    "    train_x_of_cv=np.asarray(x_train[0:k].tolist()+x_train[k+1::].tolist())\n",
    "    train_y_of_cv=np.asarray(y_train[0:k].tolist()+y_train[k+1::].tolist())\n",
    "    train_lon_of_cv=np.asarray(lon_train[0:k].tolist()+lon_train[k+1::].tolist())\n",
    "    train_lat_of_cv=np.asarray(lat_train[0:k].tolist()+lat_train[k+1::].tolist())\n",
    "    current_time=time_train[k]\n",
    "    train_times_of_cv=np.asarray(time_train[0:k].tolist()+time_train[k+1::].tolist())\n",
    "    n = len(train_x_of_cv)\n",
    "    informations=[]\n",
    "    for i in range(0,n):\n",
    "        st_1=str(round(current_coords[0],8))+','+str(round(current_coords[1],8))\n",
    "        nd_2=str(round(train_lat_of_cv[i][0],8))+','+str(round(train_lon_of_cv[i][0],8))\n",
    "        our_travel_distance=tmp_df[st_1][nd_2]\n",
    "        dis_geographic=our_travel_distance\n",
    "        if type(dis_geographic)!=np.float64:\n",
    "            dis_geographic=dis_geographic.values.tolist()[0]\n",
    "        dis_time=np.abs(current_time-train_times_of_cv[i])\n",
    "        dis_feature=math.sqrt(sum((x_train[k]-train_x_of_cv[i])**2))\n",
    "        informations.append([dis_feature,dis_geographic,dis_time,train_y_of_cv[i][0]])\n",
    "    sorted_dis_features=[el[0] for el in informations]\n",
    "    sorted_dis_features.sort()\n",
    "    neighbours_features=sorted_dis_features[0:n_neighbours_of_adaptive_grnn]\n",
    "    bandwidth=neighbours_features[-1]\n",
    "    sorted_dis_coordinates=[el[1] for el in informations]\n",
    "    sorted_dis_coordinates.sort()\n",
    "    neighbours_coordinates=sorted_dis_coordinates[0:n_neighbours_of_travel_adaptive_gcw_grnn_for_geographic]\n",
    "    geographic_bandwidth=neighbours_coordinates[-1]\n",
    "    weights=[]\n",
    "    for j in range(0,len(informations)):\n",
    "        if informations[j][0]<= bandwidth:\n",
    "            weight_feature=(1-(informations[j][0]/bandwidth)**2)**2\n",
    "        else:\n",
    "            weight_feature=0\n",
    "        if informations[j][1]<= geographic_bandwidth:\n",
    "            weight_geographic=(1-(informations[j][1]/geographic_bandwidth)**2)**2\n",
    "        else:\n",
    "            weight_geographic=0\n",
    "        if informations[j][2]<=time_bandwidth:\n",
    "            weight_time=(1-(informations[j][2]/time_bandwidth)**2)**2\n",
    "        else:\n",
    "            weight_time=0\n",
    "        weight=weight_feature*weight_geographic*weight_time\n",
    "        weights.append(weight)\n",
    "    numerator=0\n",
    "    denominator=0\n",
    "    for l in range(0,len(informations)):\n",
    "        numerator+=weights[l]*informations[l][3]\n",
    "        denominator+=weights[l]\n",
    "    predictions_of_travel_adaptive_gtcw_grnn_for_train.append(numerator/denominator)\n",
    "\n",
    "print('r2 score travel adaptive gtcw_grnn for train',r2_score(y_train, predictions_of_travel_adaptive_gtcw_grnn_for_train))"
   ]
  },
  {
   "cell_type": "markdown",
   "metadata": {},
   "source": [
    "Now, we evaluate the geographically, temporally and characteristically weighted generalized neural network with an adaptive core and travel distance."
   ]
  },
  {
   "cell_type": "code",
   "execution_count": 52,
   "metadata": {},
   "outputs": [
    {
     "name": "stdout",
     "output_type": "stream",
     "text": [
      "r2 score travel adaptive gtcw_grnn for test 0.7143382562590525\n"
     ]
    }
   ],
   "source": [
    "predictions_of_travel_adaptive_gtcw_grnn_for_test=[]\n",
    "tmp_df=df_test_travel_distances.loc[:,~df_test_travel_distances.columns.duplicated()].copy()\n",
    "for i in range(0,len(x_test)):\n",
    "    current_test=x_test[i]\n",
    "    current_coords=[lat_test[i][0],lon_test[i][0]]\n",
    "    current_time=time_test[i][0]\n",
    "    desired_index_time=str(current_time)\n",
    "    current_time_distances=df_times_test.loc[desired_index_time].values.tolist()\n",
    "    if len(current_time_distances)!=699:\n",
    "        current_time_distances=list(set(df_times_test.loc[desired_index_time].values.tolist()[0]))\n",
    "    elif len(current_time_distances)==699:\n",
    "        current_time_distances=list(set(df_times_test.loc[desired_index_time].values.tolist()))\n",
    "    current_time_distances.sort()\n",
    "    neighbours_time=current_time_distances[0:n_neighbours_of_travel_adaptive_gtcw_grnn_for_time]\n",
    "    time_bandwidth=neighbours_time[-1]\n",
    "    informations=[]\n",
    "    for j in range(0,len(x_train)):\n",
    "        dis_features=math.sqrt(sum((x_test[i]-x_train[j])**2))\n",
    "        st_1=str(round(current_coords[0],8))+','+str(round(current_coords[1],8))\n",
    "        nd_2=str(round(lat_train[j][0],8))+','+str(round(lon_train[j][0],8))\n",
    "        try:\n",
    "            our_travel_distance=tmp_df[st_1][nd_2]\n",
    "        except:\n",
    "            our_travel_distance=tmp_df[nd_2][st_1]\n",
    "        dis_coordinates=our_travel_distance\n",
    "        dis_times=math.sqrt((time_test[i]-time_train[j])**2)\n",
    "        informations.append([dis_features,dis_coordinates,dis_times,y_train[j]])\n",
    "    sorted_dis_features=[el[0] for el in informations]\n",
    "    sorted_dis_features.sort()\n",
    "    neighbours_features=sorted_dis_features[0:n_neighbours_of_adaptive_grnn]\n",
    "    bandwidth=neighbours_features[-1]\n",
    "    sorted_dis_coordinates=[el[1] for el in informations]\n",
    "    sorted_dis_coordinates.sort()\n",
    "    neighbours_coordinates=sorted_dis_coordinates[0:n_neighbours_of_travel_adaptive_gcw_grnn_for_geographic]\n",
    "    geographic_bandwidth=neighbours_coordinates[-1]\n",
    "    weights=[]\n",
    "    for k in range(0,len(informations)):\n",
    "        if informations[k][0]<= bandwidth:\n",
    "            weight_features=(1-(informations[k][0]/bandwidth)**2)**2\n",
    "        else:\n",
    "            weight_features=0\n",
    "        if informations[k][1]<= geographic_bandwidth:\n",
    "            weight_coordinates=(1-(informations[k][1]/geographic_bandwidth)**2)**2\n",
    "        else:\n",
    "            weight_coordinates=0\n",
    "        if informations[k][2]<=time_bandwidth:\n",
    "            weight_time=(1-(informations[k][2]/time_bandwidth)**2)**2\n",
    "        else:\n",
    "            weight_time=0\n",
    "        weights.append(weight_features*weight_coordinates*weight_time)\n",
    "    numerator=0\n",
    "    denominator=0\n",
    "    for l in range(0,len(informations)):\n",
    "        numerator+=weights[l]*informations[l][3]\n",
    "        denominator+=weights[l]\n",
    "    predictions_of_travel_adaptive_gtcw_grnn_for_test.append(numerator/denominator)\n",
    "\n",
    "print('r2 score travel adaptive gtcw_grnn for test',r2_score(y_test, predictions_of_travel_adaptive_gtcw_grnn_for_test))"
   ]
  }
 ],
 "metadata": {
  "kernelspec": {
   "display_name": "Python 3 (ipykernel)",
   "language": "python",
   "name": "python3"
  },
  "language_info": {
   "codemirror_mode": {
    "name": "ipython",
    "version": 3
   },
   "file_extension": ".py",
   "mimetype": "text/x-python",
   "name": "python",
   "nbconvert_exporter": "python",
   "pygments_lexer": "ipython3",
   "version": "3.12.7"
  }
 },
 "nbformat": 4,
 "nbformat_minor": 4
}
